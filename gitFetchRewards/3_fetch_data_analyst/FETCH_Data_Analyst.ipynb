{
 "cells": [
  {
   "cell_type": "markdown",
   "metadata": {},
   "source": [
    "### Observations\n"
   ]
  },
  {
   "cell_type": "markdown",
   "metadata": {},
   "source": [
    "Following are the observations from the different datasets:"
   ]
  },
  {
   "cell_type": "markdown",
   "metadata": {},
   "source": [
    "#### Users Dataset:"
   ]
  },
  {
   "cell_type": "markdown",
   "metadata": {},
   "source": [
    "1. Documentation says-  users.`role: constant value set to 'CONSUMER'`. But 2 unique values found in dataset.\n",
    "2. SignUpSource, State and lastLogin has nan values.\n",
    "3. The users table should only have unique user ids to avoid redundancy of data and efficient querying.\n",
    "4. All dates are a numeric value. Unknown if dates were lost in conversion or dummy data.\n"
   ]
  },
  {
   "cell_type": "markdown",
   "metadata": {},
   "source": [
    "#### Brands Dataset:"
   ]
  },
  {
   "cell_type": "markdown",
   "metadata": {},
   "source": [
    "1. Brands dataset has no uniquely identifying attribute.\n",
    "2. `brandCode` has missing/nan values."
   ]
  },
  {
   "cell_type": "markdown",
   "metadata": {},
   "source": [
    "#### Reciepts Dataset:"
   ]
  },
  {
   "cell_type": "markdown",
   "metadata": {},
   "source": [
    "1. Some queries in Part 2 are based on `Status = 'Accepted'`. There is no such data in the dataset. Might be an data anomaly.\n",
    "2. Multiple date columns. Based on what they represent and business cases some can may be dropped to reduce redundancy. <br>\n",
    "e.g. `createDate`: The date that the event was created <br>\n",
    "     `purchaseDate`: the date of the purchase<br>\n",
    "In real world, most likely these should be the same date.\n",
    "\n",
    "3. `recieptItemList` has non-uniform dictionaries. <br>\n",
    "    a. `Item Number` which could be potential identifier for each recieptlistitem is sparsely populated. <br>\n",
    "    b. Some have `barcode`, `finalPrice` while some don't making it difficult to check data integrity among sum of individual items in recieptItemList and compare against totalSpent in reciept.This data issue needs to be first taken care of before futher enhancing the user defined function to conduct data integrity checks.Similar checks can be designed for item quantity at receipt and receipt item levels too. <br>\n",
    "    c. There are multiple price columns which mostly has same data e.g.`discountedItemPrice`, `finalPrice`, `itemPrice`, `targetPrice`"
   ]
  },
  {
   "cell_type": "markdown",
   "metadata": {},
   "source": [
    "---"
   ]
  },
  {
   "cell_type": "markdown",
   "metadata": {},
   "source": [
    "### Code used to analyse datasets"
   ]
  },
  {
   "cell_type": "markdown",
   "metadata": {},
   "source": [
    "#### Imports"
   ]
  },
  {
   "cell_type": "code",
   "execution_count": 1,
   "metadata": {},
   "outputs": [],
   "source": [
    "from IPython.core.interactiveshell import InteractiveShell\n",
    "InteractiveShell.ast_node_interactivity = \"all\"\n",
    "\n",
    "import pandas as pd\n",
    "import numpy as np"
   ]
  },
  {
   "cell_type": "markdown",
   "metadata": {},
   "source": [
    "#### Load Data"
   ]
  },
  {
   "cell_type": "code",
   "execution_count": 2,
   "metadata": {},
   "outputs": [],
   "source": [
    "users = pd.read_json('./data/users.json/users.json', lines=True)\n",
    "brands = pd.read_json('./data/brands.json/brands.json', lines=True)\n",
    "reciepts = pd.read_json('./data/receipts.json/receipts.json', lines=True)"
   ]
  },
  {
   "cell_type": "markdown",
   "metadata": {},
   "source": [
    "#### Users Dataset Analysis"
   ]
  },
  {
   "cell_type": "code",
   "execution_count": 3,
   "metadata": {},
   "outputs": [
    {
     "data": {
      "text/html": [
       "<div>\n",
       "<style scoped>\n",
       "    .dataframe tbody tr th:only-of-type {\n",
       "        vertical-align: middle;\n",
       "    }\n",
       "\n",
       "    .dataframe tbody tr th {\n",
       "        vertical-align: top;\n",
       "    }\n",
       "\n",
       "    .dataframe thead th {\n",
       "        text-align: right;\n",
       "    }\n",
       "</style>\n",
       "<table border=\"1\" class=\"dataframe\">\n",
       "  <thead>\n",
       "    <tr style=\"text-align: right;\">\n",
       "      <th></th>\n",
       "      <th>_id</th>\n",
       "      <th>active</th>\n",
       "      <th>createdDate</th>\n",
       "      <th>lastLogin</th>\n",
       "      <th>role</th>\n",
       "      <th>signUpSource</th>\n",
       "      <th>state</th>\n",
       "    </tr>\n",
       "  </thead>\n",
       "  <tbody>\n",
       "    <tr>\n",
       "      <th>0</th>\n",
       "      <td>{'$oid': '5ff1e194b6a9d73a3a9f1052'}</td>\n",
       "      <td>True</td>\n",
       "      <td>{'$date': 1609687444800}</td>\n",
       "      <td>{'$date': 1609687537858}</td>\n",
       "      <td>consumer</td>\n",
       "      <td>Email</td>\n",
       "      <td>WI</td>\n",
       "    </tr>\n",
       "    <tr>\n",
       "      <th>1</th>\n",
       "      <td>{'$oid': '5ff1e194b6a9d73a3a9f1052'}</td>\n",
       "      <td>True</td>\n",
       "      <td>{'$date': 1609687444800}</td>\n",
       "      <td>{'$date': 1609687537858}</td>\n",
       "      <td>consumer</td>\n",
       "      <td>Email</td>\n",
       "      <td>WI</td>\n",
       "    </tr>\n",
       "    <tr>\n",
       "      <th>2</th>\n",
       "      <td>{'$oid': '5ff1e194b6a9d73a3a9f1052'}</td>\n",
       "      <td>True</td>\n",
       "      <td>{'$date': 1609687444800}</td>\n",
       "      <td>{'$date': 1609687537858}</td>\n",
       "      <td>consumer</td>\n",
       "      <td>Email</td>\n",
       "      <td>WI</td>\n",
       "    </tr>\n",
       "    <tr>\n",
       "      <th>3</th>\n",
       "      <td>{'$oid': '5ff1e1eacfcf6c399c274ae6'}</td>\n",
       "      <td>True</td>\n",
       "      <td>{'$date': 1609687530554}</td>\n",
       "      <td>{'$date': 1609687530597}</td>\n",
       "      <td>consumer</td>\n",
       "      <td>Email</td>\n",
       "      <td>WI</td>\n",
       "    </tr>\n",
       "    <tr>\n",
       "      <th>4</th>\n",
       "      <td>{'$oid': '5ff1e194b6a9d73a3a9f1052'}</td>\n",
       "      <td>True</td>\n",
       "      <td>{'$date': 1609687444800}</td>\n",
       "      <td>{'$date': 1609687537858}</td>\n",
       "      <td>consumer</td>\n",
       "      <td>Email</td>\n",
       "      <td>WI</td>\n",
       "    </tr>\n",
       "  </tbody>\n",
       "</table>\n",
       "</div>"
      ],
      "text/plain": [
       "                                    _id  active               createdDate  \\\n",
       "0  {'$oid': '5ff1e194b6a9d73a3a9f1052'}    True  {'$date': 1609687444800}   \n",
       "1  {'$oid': '5ff1e194b6a9d73a3a9f1052'}    True  {'$date': 1609687444800}   \n",
       "2  {'$oid': '5ff1e194b6a9d73a3a9f1052'}    True  {'$date': 1609687444800}   \n",
       "3  {'$oid': '5ff1e1eacfcf6c399c274ae6'}    True  {'$date': 1609687530554}   \n",
       "4  {'$oid': '5ff1e194b6a9d73a3a9f1052'}    True  {'$date': 1609687444800}   \n",
       "\n",
       "                  lastLogin      role signUpSource state  \n",
       "0  {'$date': 1609687537858}  consumer        Email    WI  \n",
       "1  {'$date': 1609687537858}  consumer        Email    WI  \n",
       "2  {'$date': 1609687537858}  consumer        Email    WI  \n",
       "3  {'$date': 1609687530597}  consumer        Email    WI  \n",
       "4  {'$date': 1609687537858}  consumer        Email    WI  "
      ]
     },
     "execution_count": 3,
     "metadata": {},
     "output_type": "execute_result"
    }
   ],
   "source": [
    "#Explore users dataset on  a high level\n",
    "users.head(5)"
   ]
  },
  {
   "cell_type": "code",
   "execution_count": 4,
   "metadata": {},
   "outputs": [
    {
     "data": {
      "text/plain": [
       "_id             object\n",
       "active            bool\n",
       "createdDate     object\n",
       "lastLogin       object\n",
       "role            object\n",
       "signUpSource    object\n",
       "state           object\n",
       "dtype: object"
      ]
     },
     "execution_count": 4,
     "metadata": {},
     "output_type": "execute_result"
    }
   ],
   "source": [
    "users.dtypes  "
   ]
  },
  {
   "cell_type": "code",
   "execution_count": 5,
   "metadata": {},
   "outputs": [
    {
     "data": {
      "text/plain": [
       "(495, 7)"
      ]
     },
     "execution_count": 5,
     "metadata": {},
     "output_type": "execute_result"
    }
   ],
   "source": [
    "users.shape"
   ]
  },
  {
   "cell_type": "code",
   "execution_count": 6,
   "metadata": {},
   "outputs": [
    {
     "name": "stdout",
     "output_type": "stream",
     "text": [
      "Unique values in dict columns:\n",
      "active --- [ True False]\n",
      "role --- ['consumer' 'fetch-staff']\n",
      "signUpSource --- ['Email' 'Google' nan]\n",
      "state --- ['WI' 'KY' 'AL' 'CO' 'IL' nan 'OH' 'SC' 'NH']\n"
     ]
    }
   ],
   "source": [
    "non_dic_columns=['active','role','signUpSource','state']\n",
    "\n",
    "print(\"Unique values in dict columns:\")\n",
    "for col in non_dic_columns:\n",
    "    print(col,'---', users[col].unique())"
   ]
  },
  {
   "cell_type": "code",
   "execution_count": 7,
   "metadata": {},
   "outputs": [
    {
     "name": "stdout",
     "output_type": "stream",
     "text": [
      "Unique user ids: 212\n",
      "Total user ids: 495\n"
     ]
    }
   ],
   "source": [
    "def convert_to_string(val):\n",
    "    return str(val)\n",
    "\n",
    "users['id'] = users['_id'].apply(convert_to_string)\n",
    "\n",
    "print('Unique user ids:', users.id.nunique())\n",
    "print('Total user ids:', len(users.id))\n"
   ]
  },
  {
   "cell_type": "markdown",
   "metadata": {},
   "source": [
    "#### Structured Data of Users"
   ]
  },
  {
   "cell_type": "code",
   "execution_count": 8,
   "metadata": {},
   "outputs": [
    {
     "data": {
      "text/html": [
       "<div>\n",
       "<style scoped>\n",
       "    .dataframe tbody tr th:only-of-type {\n",
       "        vertical-align: middle;\n",
       "    }\n",
       "\n",
       "    .dataframe tbody tr th {\n",
       "        vertical-align: top;\n",
       "    }\n",
       "\n",
       "    .dataframe thead th {\n",
       "        text-align: right;\n",
       "    }\n",
       "</style>\n",
       "<table border=\"1\" class=\"dataframe\">\n",
       "  <thead>\n",
       "    <tr style=\"text-align: right;\">\n",
       "      <th></th>\n",
       "      <th>id</th>\n",
       "      <th>stateID</th>\n",
       "      <th>isActive</th>\n",
       "      <th>dateLastLogin</th>\n",
       "      <th>dateCreated</th>\n",
       "      <th>signUpSource</th>\n",
       "    </tr>\n",
       "  </thead>\n",
       "  <tbody>\n",
       "    <tr>\n",
       "      <th>0</th>\n",
       "      <td>5ff1e194b6a9d73a3a9f1052</td>\n",
       "      <td>WI</td>\n",
       "      <td>True</td>\n",
       "      <td>1.609688e+12</td>\n",
       "      <td>1609687444800</td>\n",
       "      <td>Email</td>\n",
       "    </tr>\n",
       "    <tr>\n",
       "      <th>1</th>\n",
       "      <td>5ff1e194b6a9d73a3a9f1052</td>\n",
       "      <td>WI</td>\n",
       "      <td>True</td>\n",
       "      <td>1.609688e+12</td>\n",
       "      <td>1609687444800</td>\n",
       "      <td>Email</td>\n",
       "    </tr>\n",
       "    <tr>\n",
       "      <th>2</th>\n",
       "      <td>5ff1e194b6a9d73a3a9f1052</td>\n",
       "      <td>WI</td>\n",
       "      <td>True</td>\n",
       "      <td>1.609688e+12</td>\n",
       "      <td>1609687444800</td>\n",
       "      <td>Email</td>\n",
       "    </tr>\n",
       "    <tr>\n",
       "      <th>3</th>\n",
       "      <td>5ff1e1eacfcf6c399c274ae6</td>\n",
       "      <td>WI</td>\n",
       "      <td>True</td>\n",
       "      <td>1.609688e+12</td>\n",
       "      <td>1609687530554</td>\n",
       "      <td>Email</td>\n",
       "    </tr>\n",
       "    <tr>\n",
       "      <th>4</th>\n",
       "      <td>5ff1e194b6a9d73a3a9f1052</td>\n",
       "      <td>WI</td>\n",
       "      <td>True</td>\n",
       "      <td>1.609688e+12</td>\n",
       "      <td>1609687444800</td>\n",
       "      <td>Email</td>\n",
       "    </tr>\n",
       "    <tr>\n",
       "      <th>...</th>\n",
       "      <td>...</td>\n",
       "      <td>...</td>\n",
       "      <td>...</td>\n",
       "      <td>...</td>\n",
       "      <td>...</td>\n",
       "      <td>...</td>\n",
       "    </tr>\n",
       "    <tr>\n",
       "      <th>490</th>\n",
       "      <td>54943462e4b07e684157a532</td>\n",
       "      <td>NaN</td>\n",
       "      <td>True</td>\n",
       "      <td>1.614963e+12</td>\n",
       "      <td>1418998882381</td>\n",
       "      <td>NaN</td>\n",
       "    </tr>\n",
       "    <tr>\n",
       "      <th>491</th>\n",
       "      <td>54943462e4b07e684157a532</td>\n",
       "      <td>NaN</td>\n",
       "      <td>True</td>\n",
       "      <td>1.614963e+12</td>\n",
       "      <td>1418998882381</td>\n",
       "      <td>NaN</td>\n",
       "    </tr>\n",
       "    <tr>\n",
       "      <th>492</th>\n",
       "      <td>54943462e4b07e684157a532</td>\n",
       "      <td>NaN</td>\n",
       "      <td>True</td>\n",
       "      <td>1.614963e+12</td>\n",
       "      <td>1418998882381</td>\n",
       "      <td>NaN</td>\n",
       "    </tr>\n",
       "    <tr>\n",
       "      <th>493</th>\n",
       "      <td>54943462e4b07e684157a532</td>\n",
       "      <td>NaN</td>\n",
       "      <td>True</td>\n",
       "      <td>1.614963e+12</td>\n",
       "      <td>1418998882381</td>\n",
       "      <td>NaN</td>\n",
       "    </tr>\n",
       "    <tr>\n",
       "      <th>494</th>\n",
       "      <td>54943462e4b07e684157a532</td>\n",
       "      <td>NaN</td>\n",
       "      <td>True</td>\n",
       "      <td>1.614963e+12</td>\n",
       "      <td>1418998882381</td>\n",
       "      <td>NaN</td>\n",
       "    </tr>\n",
       "  </tbody>\n",
       "</table>\n",
       "<p>495 rows × 6 columns</p>\n",
       "</div>"
      ],
      "text/plain": [
       "                           id stateID  isActive  dateLastLogin    dateCreated  \\\n",
       "0    5ff1e194b6a9d73a3a9f1052      WI      True   1.609688e+12  1609687444800   \n",
       "1    5ff1e194b6a9d73a3a9f1052      WI      True   1.609688e+12  1609687444800   \n",
       "2    5ff1e194b6a9d73a3a9f1052      WI      True   1.609688e+12  1609687444800   \n",
       "3    5ff1e1eacfcf6c399c274ae6      WI      True   1.609688e+12  1609687530554   \n",
       "4    5ff1e194b6a9d73a3a9f1052      WI      True   1.609688e+12  1609687444800   \n",
       "..                        ...     ...       ...            ...            ...   \n",
       "490  54943462e4b07e684157a532     NaN      True   1.614963e+12  1418998882381   \n",
       "491  54943462e4b07e684157a532     NaN      True   1.614963e+12  1418998882381   \n",
       "492  54943462e4b07e684157a532     NaN      True   1.614963e+12  1418998882381   \n",
       "493  54943462e4b07e684157a532     NaN      True   1.614963e+12  1418998882381   \n",
       "494  54943462e4b07e684157a532     NaN      True   1.614963e+12  1418998882381   \n",
       "\n",
       "    signUpSource  \n",
       "0          Email  \n",
       "1          Email  \n",
       "2          Email  \n",
       "3          Email  \n",
       "4          Email  \n",
       "..           ...  \n",
       "490          NaN  \n",
       "491          NaN  \n",
       "492          NaN  \n",
       "493          NaN  \n",
       "494          NaN  \n",
       "\n",
       "[495 rows x 6 columns]"
      ]
     },
     "execution_count": 8,
     "metadata": {},
     "output_type": "execute_result"
    }
   ],
   "source": [
    "df_users = pd.read_excel('./data/users.json/users.xlsx')\n",
    "df_users"
   ]
  },
  {
   "cell_type": "code",
   "execution_count": 9,
   "metadata": {},
   "outputs": [
    {
     "name": "stdout",
     "output_type": "stream",
     "text": [
      "<class 'pandas.core.frame.DataFrame'>\n",
      "RangeIndex: 495 entries, 0 to 494\n",
      "Data columns (total 6 columns):\n",
      " #   Column         Non-Null Count  Dtype  \n",
      "---  ------         --------------  -----  \n",
      " 0   id             495 non-null    object \n",
      " 1   stateID        436 non-null    object \n",
      " 2   isActive       495 non-null    bool   \n",
      " 3   dateLastLogin  433 non-null    float64\n",
      " 4   dateCreated    495 non-null    int64  \n",
      " 5   signUpSource   388 non-null    object \n",
      "dtypes: bool(1), float64(1), int64(1), object(3)\n",
      "memory usage: 19.9+ KB\n"
     ]
    }
   ],
   "source": [
    "df_users.info()"
   ]
  },
  {
   "cell_type": "code",
   "execution_count": 22,
   "metadata": {},
   "outputs": [
    {
     "name": "stdout",
     "output_type": "stream",
     "text": [
      "Unique count of id --- 212\n",
      "Unique count of stateID --- 7\n",
      "Unique count of isActive --- 2\n",
      "Unique count of dateLastLogin --- 172\n",
      "Unique count of dateCreated --- 212\n",
      "Unique count of signUpSource --- 4\n"
     ]
    }
   ],
   "source": [
    "for col in df_users.columns:\n",
    "    print('Unique count of',col,'---', df_users[col].nunique())"
   ]
  },
  {
   "cell_type": "markdown",
   "metadata": {},
   "source": [
    "#### Brands Dataset Analysis"
   ]
  },
  {
   "cell_type": "code",
   "execution_count": 31,
   "metadata": {},
   "outputs": [
    {
     "data": {
      "text/html": [
       "<div>\n",
       "<style scoped>\n",
       "    .dataframe tbody tr th:only-of-type {\n",
       "        vertical-align: middle;\n",
       "    }\n",
       "\n",
       "    .dataframe tbody tr th {\n",
       "        vertical-align: top;\n",
       "    }\n",
       "\n",
       "    .dataframe thead th {\n",
       "        text-align: right;\n",
       "    }\n",
       "</style>\n",
       "<table border=\"1\" class=\"dataframe\">\n",
       "  <thead>\n",
       "    <tr style=\"text-align: right;\">\n",
       "      <th></th>\n",
       "      <th>_id</th>\n",
       "      <th>barcode</th>\n",
       "      <th>category</th>\n",
       "      <th>categoryCode</th>\n",
       "      <th>cpg</th>\n",
       "      <th>name</th>\n",
       "      <th>topBrand</th>\n",
       "      <th>brandCode</th>\n",
       "    </tr>\n",
       "  </thead>\n",
       "  <tbody>\n",
       "    <tr>\n",
       "      <th>0</th>\n",
       "      <td>{'$oid': '601ac115be37ce2ead437551'}</td>\n",
       "      <td>511111019862</td>\n",
       "      <td>Baking</td>\n",
       "      <td>BAKING</td>\n",
       "      <td>{'$id': {'$oid': '601ac114be37ce2ead437550'}, ...</td>\n",
       "      <td>test brand @1612366101024</td>\n",
       "      <td>0.0</td>\n",
       "      <td>NaN</td>\n",
       "    </tr>\n",
       "    <tr>\n",
       "      <th>1</th>\n",
       "      <td>{'$oid': '601c5460be37ce2ead43755f'}</td>\n",
       "      <td>511111519928</td>\n",
       "      <td>Beverages</td>\n",
       "      <td>BEVERAGES</td>\n",
       "      <td>{'$id': {'$oid': '5332f5fbe4b03c9a25efd0ba'}, ...</td>\n",
       "      <td>Starbucks</td>\n",
       "      <td>0.0</td>\n",
       "      <td>STARBUCKS</td>\n",
       "    </tr>\n",
       "    <tr>\n",
       "      <th>2</th>\n",
       "      <td>{'$oid': '601ac142be37ce2ead43755d'}</td>\n",
       "      <td>511111819905</td>\n",
       "      <td>Baking</td>\n",
       "      <td>BAKING</td>\n",
       "      <td>{'$id': {'$oid': '601ac142be37ce2ead437559'}, ...</td>\n",
       "      <td>test brand @1612366146176</td>\n",
       "      <td>0.0</td>\n",
       "      <td>TEST BRANDCODE @1612366146176</td>\n",
       "    </tr>\n",
       "    <tr>\n",
       "      <th>3</th>\n",
       "      <td>{'$oid': '601ac142be37ce2ead43755a'}</td>\n",
       "      <td>511111519874</td>\n",
       "      <td>Baking</td>\n",
       "      <td>BAKING</td>\n",
       "      <td>{'$id': {'$oid': '601ac142be37ce2ead437559'}, ...</td>\n",
       "      <td>test brand @1612366146051</td>\n",
       "      <td>0.0</td>\n",
       "      <td>TEST BRANDCODE @1612366146051</td>\n",
       "    </tr>\n",
       "    <tr>\n",
       "      <th>4</th>\n",
       "      <td>{'$oid': '601ac142be37ce2ead43755e'}</td>\n",
       "      <td>511111319917</td>\n",
       "      <td>Candy &amp; Sweets</td>\n",
       "      <td>CANDY_AND_SWEETS</td>\n",
       "      <td>{'$id': {'$oid': '5332fa12e4b03c9a25efd1e7'}, ...</td>\n",
       "      <td>test brand @1612366146827</td>\n",
       "      <td>0.0</td>\n",
       "      <td>TEST BRANDCODE @1612366146827</td>\n",
       "    </tr>\n",
       "  </tbody>\n",
       "</table>\n",
       "</div>"
      ],
      "text/plain": [
       "                                    _id       barcode        category  \\\n",
       "0  {'$oid': '601ac115be37ce2ead437551'}  511111019862          Baking   \n",
       "1  {'$oid': '601c5460be37ce2ead43755f'}  511111519928       Beverages   \n",
       "2  {'$oid': '601ac142be37ce2ead43755d'}  511111819905          Baking   \n",
       "3  {'$oid': '601ac142be37ce2ead43755a'}  511111519874          Baking   \n",
       "4  {'$oid': '601ac142be37ce2ead43755e'}  511111319917  Candy & Sweets   \n",
       "\n",
       "       categoryCode                                                cpg  \\\n",
       "0            BAKING  {'$id': {'$oid': '601ac114be37ce2ead437550'}, ...   \n",
       "1         BEVERAGES  {'$id': {'$oid': '5332f5fbe4b03c9a25efd0ba'}, ...   \n",
       "2            BAKING  {'$id': {'$oid': '601ac142be37ce2ead437559'}, ...   \n",
       "3            BAKING  {'$id': {'$oid': '601ac142be37ce2ead437559'}, ...   \n",
       "4  CANDY_AND_SWEETS  {'$id': {'$oid': '5332fa12e4b03c9a25efd1e7'}, ...   \n",
       "\n",
       "                        name  topBrand                      brandCode  \n",
       "0  test brand @1612366101024       0.0                            NaN  \n",
       "1                  Starbucks       0.0                      STARBUCKS  \n",
       "2  test brand @1612366146176       0.0  TEST BRANDCODE @1612366146176  \n",
       "3  test brand @1612366146051       0.0  TEST BRANDCODE @1612366146051  \n",
       "4  test brand @1612366146827       0.0  TEST BRANDCODE @1612366146827  "
      ]
     },
     "execution_count": 31,
     "metadata": {},
     "output_type": "execute_result"
    },
    {
     "data": {
      "text/plain": [
       "(1167, 8)"
      ]
     },
     "execution_count": 31,
     "metadata": {},
     "output_type": "execute_result"
    }
   ],
   "source": [
    "brands.head(5)\n",
    "brands.shape"
   ]
  },
  {
   "cell_type": "code",
   "execution_count": 26,
   "metadata": {},
   "outputs": [
    {
     "data": {
      "text/plain": [
       "_id              object\n",
       "barcode           int64\n",
       "category         object\n",
       "categoryCode     object\n",
       "cpg              object\n",
       "name             object\n",
       "topBrand        float64\n",
       "brandCode        object\n",
       "dtype: object"
      ]
     },
     "execution_count": 26,
     "metadata": {},
     "output_type": "execute_result"
    }
   ],
   "source": [
    "brands.dtypes"
   ]
  },
  {
   "cell_type": "code",
   "execution_count": 33,
   "metadata": {},
   "outputs": [
    {
     "name": "stdout",
     "output_type": "stream",
     "text": [
      "Unique count of Brands cols:\n"
     ]
    },
    {
     "data": {
      "text/plain": [
       "barcode      1160\n",
       "name         1156\n",
       "brandCode     897\n",
       "dtype: int64"
      ]
     },
     "execution_count": 33,
     "metadata": {},
     "output_type": "execute_result"
    }
   ],
   "source": [
    "print('Unique count of Brands cols:')\n",
    "\n",
    "brands[['barcode','name','brandCode']].nunique()"
   ]
  },
  {
   "cell_type": "code",
   "execution_count": 42,
   "metadata": {},
   "outputs": [
    {
     "name": "stdout",
     "output_type": "stream",
     "text": [
      "Unique values of barcode --- \n",
      " [511111019862 511111519928 511111819905 ... 511111416173 511111400608\n",
      " 511111019930]\n",
      "Unique values of name --- \n",
      " ['test brand @1612366101024' 'Starbucks' 'test brand @1612366146176' ...\n",
      " 'test brand @1598639215217' 'LIPTON TEA Leaves'\n",
      " 'test brand @1613158231643']\n",
      "Unique values of brandCode --- \n",
      " [nan 'STARBUCKS' 'TEST BRANDCODE @1612366146176'\n",
      " 'TEST BRANDCODE @1612366146051' 'TEST BRANDCODE @1612366146827'\n",
      " 'TEST BRANDCODE @1612366146091' 'TEST BRANDCODE @1612366146133'\n",
      " 'J.L. KRAFT' 'CAMPBELLS HOME STYLE' 'TEST'\n",
      " 'TEST BRANDCODE @1598813526777' 'CALUMET' '511111205012'\n",
      " 'AUNT JEMIMA SYRUP' 'MOLSON' 'LOTRIMIN' 'TEST BRANDCODE @1597342520277'\n",
      " 'ST IVES' 'CHRISIMAGE' 'ALKA SELTZER' \"JACK DANIEL'S BARBECUE\"\n",
      " 'MAGNUM Ice Cream' '511111105329' 'TEST BRANDCODE @1598635634882'\n",
      " 'TACO BELL' 'FROSTED CHEERIOS' 'TEST BRANDCODE @1598639199674'\n",
      " 'GODIVA DRY PACKAGED DESSERTS' 'LARABAR' 'TEST BRANDCODE @1597350074333'\n",
      " 'TEST BRANDCODE @1607636368717' 'TEST BRANDCODE @1607707830095'\n",
      " 'COTTONELLE' 'IZZE' 'MIO' '511111505365' 'QUILTING SPECIAL EDITION'\n",
      " 'TEST BRANDCODE @1604437351617' 'HERMAN' 'KEVITA' 'DELIMEX'\n",
      " 'THE RIGHT TO SHOWER' 'CARESS' 'TEST BRANDCODE @1595340086044'\n",
      " 'TEST BRANDCODE @1597861700968' 'TEST BRAND CODE'\n",
      " 'TEST BRANDCODE @1598026275245' 'SWANSON' 'TEST BRANDCODE @1598026274668'\n",
      " 'DASH-2249 1' '511111805854' 'KETTLE BRAND' 'CAMPBELLS SOUP AT HAND '\n",
      " 'RAINBO' 'CRISPIN' 'TEST BRANDCODE @1607707830137' 'CLARITIN®'\n",
      " 'COOKIE CRISP' 'TEST BRANDCODE @1605535020442'\n",
      " 'TEST BRANDCODE @1604946244750' 'SNYDERS OF HANOVER' 'GOOD SEASONS'\n",
      " 'TEST BRANDCODE @1598633602279' 'REVOLVER' 'KEYSTONE LIGHT'\n",
      " 'BETTY CROCKER FRUIT ROLL UPS' 'TEST BRANDCODE @1607639232356' 'MOMOFUKU'\n",
      " 'POPSICLE' 'MUG Root Beer' 'TOMS' 'TEST BRANDCODE @1606765579244'\n",
      " 'TEST BRANDCODE @1597342520305' 'PROMISE' 'OFF THE EATEN PATH'\n",
      " 'TEST BRANDCODE @1600291350125' 'TEST BRANDCODE @1603760319758' \"NANCY'S\"\n",
      " 'CAMPBELLS CHUNKY MAXX' 'FOOD NETWORK KITCHEN INSPIRATIONS'\n",
      " 'TEST BRANDCODE @1597935986390' 'TEST BRANDCODE @1598633693744'\n",
      " 'SABRITAS' 'GEVALIA KAFFE' 'TEST BRANDCODE @1598290603501'\n",
      " \"O THAT'S GOOD\" \"CHESTER'S\" \"MISS VICKIE'S\" \"SIR KENSINGTON'S\" 'DORITOS'\n",
      " 'A.1.' 'TEST BRANDCODE @1598290603587' 'LOOZA JUICES' 'ALEVE'\n",
      " 'SOFT-SHEEN CARSON - HAIR COLOR' 'TEST BRANDCODE @1604946245499' ''\n",
      " 'TEST BRANDCODE @1598639199117' 'PULL UPS'\n",
      " 'TEST BRANDCODE @1605535020629' 'BRISK' 'CHRISXYZ' \"BULL'S-EYE\"\n",
      " 'KLONDIKE' 'FRUTTARE' '511111305569' 'KNOX' '511111505716' 'PLANTERS'\n",
      " 'DEGREE' \"CALEB'S KOLA\" 'LEMON LEMON' 'VASELINE' '511111005216'\n",
      " 'TEST BRANDCODE @1607312532178' 'PINESOL' 'TEST BRANDCODE @1595340086791'\n",
      " '511111005148' 'ESSIE' '0987654321' 'CAMPBELLS WELL YES'\n",
      " 'TEST BRANDCODE @1607312532304' 'TEST BRANDCODE @1598026274643'\n",
      " 'TEST BRANDCODE @1601644881995' 'BEEF STEAK' \"POND'S\"\n",
      " 'L’OREAL PARIS - COSMETICS' '511111605829'\n",
      " 'TEST BRANDCODE @1595340086078' 'TEST BRANDCODE @1602694020787'\n",
      " 'TEST BRANDCODE @1601939013649' 'SNACK FACTORY' 'MILLER64'\n",
      " \"I CAN'T BELIEVE IT'S NOT BUTTER!\" '511111805786'\n",
      " 'TEST BRANDCODE @1610496647142' 'TEST BRANDCODE @1610496646289'\n",
      " 'TEST BRANDCODE @1610496646345' 'TEST BRANDCODE @1610496646232'\n",
      " 'TEST BRANDCODE @1610495466218' 'TEST BRANDCODE @1610495102462'\n",
      " 'TEST BRANDCODE @1610495466250' 'KRAFT MIRACLE WHIP'\n",
      " 'TEST BRANDCODE @1598042674173' 'TEST BRANDCODE @1598635634796'\n",
      " 'SHEAF STOUT' 'CHEETOS' 'NATURES HARVEST' '511111605058'\n",
      " 'TEST BRANDCODE @1598639198570' 'TEST BRANDCODE @1599097538609' 'SCOTT'\n",
      " 'TEST BRANDCODE @1607639231674' 'EPIC' 'GROLSCH'\n",
      " 'TEST BRANDCODE @1603760320407' 'MAGNUM' 'TEST BRANDCODE @1603925787411'\n",
      " 'TEST BRANDCODE @1610495466861' 'TEST BRANDCODE @1610495102526'\n",
      " 'TEST BRANDCODE @1610495102491' 'TEST BRANDCODE @1610495466175'\n",
      " 'TEST BRANDCODE @1610495103255' 'TEST BRANDCODE @1610495466285'\n",
      " 'TEST BRANDCODE @1610049748118' 'TEST BRANDCODE @1610049748181'\n",
      " 'TEST BRANDCODE @1610049748154' 'TEST BRANDCODE @1610049748724'\n",
      " 'TEST BRANDCODE @1610053719707' 'TEST BRANDCODE @1607987891932'\n",
      " 'TEST BRANDCODE @1607987891893' 'TEST BRANDCODE @1607987891852'\n",
      " 'TEST BRANDCODE @1607987892541' 'TEST BRANDCODE @1607707829962'\n",
      " \"KILLIAN'S\" 'TEST BRANDCODE @1597861700880' \"KRAFT SHAKE 'N BAKE\" 'HP'\n",
      " 'DRUMSTICK CEREAL' 'ALEVE D SINUS & COLD' 'CHEEZ WHIZ'\n",
      " 'TEST BRANDCODE @1607463685522' 'COOL WHIP' 'TRIX' 'FLINTSTONES'\n",
      " 'ABSOLUT® GRAPEFRUIT' 'ALTOS' 'DEL MAGUEY ' 'JAMESON® BLACK BARREL '\n",
      " 'JAMESON' 'MONKEY 47' 'MALIBU' 'LILLET' '511111705161' 'AMP2'\n",
      " 'TEST BRANDCODE @1597861700940' 'TEST BRANDCODE @1604437351567' 'KELSEN'\n",
      " '511111405818' 'ALEVE DIRECT THERAPY PAIN RELIEF DEVICES'\n",
      " 'COLORADO NATIVE' 'SOBE' 'KNUDSEN' '511111105763' '511111005421'\n",
      " \"CAP'N CRUNCH\" \"MRS BAIRD'S\" 'TRESEMME' 'PURE LEAF Iced Tea Beverages'\n",
      " 'ONE A DAY KIDS' 'TEST BRANDCODE @1599159968998' 'LIFEWTR' '511111804994'\n",
      " 'SIMILAC' 'CORICIDIN HBP' 'TEST BRANDCODE @1601939016290' 'BADEDAS'\n",
      " 'TEST BRANDCODE @1604946244876' 'BENIHANA' 'MOUNTAIN HIGH' 'TOSTITOS'\n",
      " 'TEST BRANDCODE @1603760319788' 'GERBER BABY FOOD' 'PACE'\n",
      " 'CAMPBELLS SLOW KETTLE ' 'ARCHWAY' 'BAYER® ASPIRIN'\n",
      " 'TEST BRANDCODE @1610055793449' 'TEST BRANDCODE @1610055793411'\n",
      " 'TEST BRANDCODE @1610055793500' 'TEST BRANDCODE @1610055794196'\n",
      " 'TEST BRANDCODE @1610055793537' 'TEST BRANDCODE @1610058181549'\n",
      " 'TEST BRANDCODE @1610053719944' 'TEST BRANDCODE @1610053719998'\n",
      " 'TEST BRANDCODE @1610053719869' 'TEST BRANDCODE @1610053721033' 'DEPEND'\n",
      " 'TEST BRANDCODE @1608313322283' 'TEST BRANDCODE @1608313321374'\n",
      " 'TEST BRANDCODE @1608313321191' 'TEST BRANDCODE @1608313321301'\n",
      " 'TEST BRANDCODE @1608313321222' 'NATURE VALLEY'\n",
      " 'TEST BRANDCODE @1598633693767' 'TEST BRANDCODE @1598633693791' 'ANZIO'\n",
      " '511111705000' \"HERSHEY'S WHIPPED TOPPING\"\n",
      " 'TEST BRANDCODE @1598633693720' 'TEST BRANDCODE @1605535020671'\n",
      " 'IMPERIAL' 'ALEVE PM NIGHT TIME' 'TEST BRANDCODE @1603925787294'\n",
      " 'APOTHECARE ESSENTIALS' \"HENRY WEINHARD'S\" 'CAMPBELLS CHUNKY '\n",
      " 'ONE A DAY® WOMENS' 'TEST BRANDCODE @1595340085980' 'KINGSFORD'\n",
      " 'YOPLAIT GO-GURT' 'FRITO-LAY' 'GREY POUPON'\n",
      " 'TEST BRANDCODE @1598296704763' 'BERROCA®' 'PROPEL' \"MILWAUKEE'S BEST\"\n",
      " 'SPITZ' 'IMAGINE' 'TEST BRANDCODE @1597342520969' 'TUSK & GRAIN'\n",
      " \"REDD'S ALE\" 'LANCE' 'PACIFIC FOODS' 'YOPLAIT DUNKERS'\n",
      " 'TEST BRANDCODE @1598554813705' 'LIPTON Soup' 'MINIONS CEREAL'\n",
      " 'LOVE HOME AND PLANET' 'TEST BRANDCODE @1595968943012' 'ONETOUCH'\n",
      " 'TEST BRANDCODE @1597935986248' 'KRAFT' 'BASIC 4' 'WOLFGANG PUCK'\n",
      " 'TEST BRANDCODE @1601659120828' 'TEST BRANDCODE @1603925787441'\n",
      " 'THE SOULFUL PROJECT' 'TEST BRANDCODE @1598633602924' 'DREAM WHIP'\n",
      " 'TEST BRANDCODE @1597527951461' 'TEST BRANDCODE @1607639231623'\n",
      " 'KJELDSEN' 'TEST BRANDCODE @1598635435896'\n",
      " 'TEST BRANDCODE @1599849713773' 'TEST BRANDCODE @1607636369405'\n",
      " 'TEST BRANDCODE @1601644363827' 'PEPPERIDGE FARM'\n",
      " 'TEST BRANDCODE @1611088503689' 'TEST BRANDCODE @1605535020580'\n",
      " 'MILLER HIGH LIFE' 'QUAKER' '511111705727' 'ATHENOS'\n",
      " 'TEST BRANDCODE @1599159969028' 'TEST BRANDCODE @1597350074404' 'SEDAL'\n",
      " 'RED ROCK DELI' 'ALKA SELTZER PLUS SINUS CAP/ GEL/ TAB'\n",
      " 'TEST BRANDCODE @1598633602253' 'SMARTFOOD'\n",
      " 'TEST BRANDCODE @1598042673532' 'TEST BRANDCODE @1601939762881'\n",
      " 'OSCAR MAYER' 'LECH PREMIUM' '511111805137' 'HEINERS' 'PARENTS'\n",
      " 'PIONEER WOMAN' 'TEST BRANDCODE @1611088504474' '511111605102'\n",
      " 'HOP VALLEY' 'TEST BRANDCODE @1597861700914' 'YUBAN' '511111105114'\n",
      " 'TEST BRANDCODE @1603760319682' 'TEST BRANDCODE @1598716509394' 'TIGI'\n",
      " \"AUTUMN'S GOLD\" 'BROOKE BOND' '511111105046'\n",
      " 'TEST BRANDCODE @1595968943049' 'AMPTEST' 'COORS' 'BOLT 24' 'MIST TWST'\n",
      " 'TEST BRANDCODE @1608136484526' 'TEST BRANDCODE @1608136485398'\n",
      " 'TEST BRANDCODE @1608136484574' 'SARGENTO'\n",
      " 'TEST BRANDCODE @1608136484633' 'TEST BRANDCODE @1608136484689'\n",
      " 'TEST BRANDCODE @1610038521565' 'TEST BRANDCODE @1610038521677'\n",
      " 'TEST BRANDCODE @1610038521624' 'TEST BRANDCODE @1610038522559'\n",
      " 'TEST BRANDCODE @1610040576117' 'TEST BRANDCODE @1610040576672'\n",
      " 'TEST BRANDCODE @1610040576088' 'TEST BRANDCODE @1610040576148'\n",
      " 'TEST BRANDCODE @1610040576053' 'ALKA SELTZER PLUS'\n",
      " 'TEST BRANDCODE @1610653897113' 'TEST BRANDCODE @1610653894519'\n",
      " 'TEST BRANDCODE @1610660035659' 'TEST BRANDCODE @1610653894662'\n",
      " 'TEST BRANDCODE @1610653894371' 'TEST BRANDCODE @1601659122798'\n",
      " 'COCOA PUFFS' 'TEST BRANDCODE @1601659120793' 'JAYS' 'KNORR' 'CRISTAL'\n",
      " 'TEST BRANDCODE @1607312532874' 'BOCA' 'ALEXA' 'KIX'\n",
      " 'TEST BRANDCODE @1595531348246' \"GRANDMA'S\"\n",
      " 'TEST BRANDCODE @1602694015178' \"SHARP'S NEAR BEER\" 'BAILEYS' 'FINISH'\n",
      " 'TEST BRANDCODE @1598639197926' 'TEST BRANDCODE @1602694015743' 'JELL-O'\n",
      " 'TEST BRANDCODE @1601644364536' 'TEST BRANDCODE @1603925787997'\n",
      " 'GOLDFISH' 'TEST BRANDCODE @1598633602304'\n",
      " 'TEST BRANDCODE @1601659120694' 'CAPE LINE'\n",
      " 'TEST BRANDCODE @1597935987233' 'NEAR EAST' '511111505150' 'CLOROX'\n",
      " 'MAY-BUD' 'TEST BRANDCODE @1599849713798' 'GATORADE'\n",
      " 'TEST BRANDCODE @1597342520132' 'GARDEN FRESH GOURMET'\n",
      " 'AUNT JEMIMA DRY BREAKFAST MIXES' 'OLDE ENGLISH'\n",
      " 'TEST BRANDCODE @1600291349255' 'MATADOR' '511111305286' \"REESE'S PUFFS\"\n",
      " 'GOLDEN GRAHAMS' 'TEST BRANDCODE @1598026274692' '511111805342'\n",
      " 'TEST BRANDCODE @1598554813744' 'RICE-A-RONI' 'STELLA DORO'\n",
      " 'TEST BRANDCODE @1598813526686' 'TEST BRANDCODE @1604437351678'\n",
      " 'CAMPBELLS READY MEALS' 'RESOLVE' 'MAUI STYLE' 'CULTURE REPUBLICK '\n",
      " 'WHEATIES' 'TEST BRANDCODE @1601644882062'\n",
      " 'TEST BRANDCODE @1601939013444' '511111805571'\n",
      " 'TEST BRANDCODE @1598635634821' 'TEST BRANDCODE @1607707830844' 'ZIMA'\n",
      " 'TEST BRANDCODE @1598026274609' 'CHESTERS'\n",
      " 'TEST BRANDCODE @1601644363784' 'CAPE COD' 'COUNTRY CROCK PLANT BUTTER'\n",
      " '511111205388' 'CHOCOLATE LUCKY CHARMS' 'TEST BRANDCODE @1598554813535'\n",
      " 'TEST BRANDCODE @1610493496975' 'TEST BRANDCODE @1610495102411'\n",
      " 'TEST BRANDCODE @1610494831056' 'TEST BRANDCODE @1610494831082'\n",
      " 'TEST BRANDCODE @1610494831023' 'TEST BRANDCODE @1610493497005'\n",
      " 'TEST BRANDCODE @1610493497517' 'TEST BRANDCODE @1610493497034'\n",
      " 'TEST BRANDCODE @1610494830985' 'TEST BRANDCODE @1610494831583'\n",
      " 'TEST BRANDCODE @1608313051339' 'TEST BRANDCODE @1608313051291'\n",
      " 'TEST BRANDCODE @1608313052049' 'TEST BRANDCODE @1608313051133'\n",
      " 'TEST BRANDCODE @1608313051244' 'BALL PARK'\n",
      " 'TEST BRANDCODE @1598290603618' 'HIDDEL BARREL COLLECTION' 'LAUNCH BOX'\n",
      " 'SIMPLE' 'SALON SELECTIVES' 'CRACKER BARREL' 'HUGGIES LITTLE SWIMMERS'\n",
      " 'TEST BRANDCODE @1598042673502' 'TEST BRANDCODE @1607707830173' 'SHREDS'\n",
      " 'BAKEN ETS' 'HONEY NUT CHEERIOS' 'DASH-2249 1 BRAND 1' 'CRACKER JACK'\n",
      " 'GERBER GOOD START' 'TEST BRANDCODE @1598554813654'\n",
      " 'TEST BRANDCODE @1598635436505' 'TEST BRANDCODE @1597527951436'\n",
      " 'BETTER HOMES & GARDENS' 'BIMBO' \"LEINENKUGEL'S\" 'NESTLE NAN'\n",
      " 'TEST BRANDCODE @1598042673466' 'JET-PUFFED'\n",
      " 'TEST BRANDCODE @1601644882548' 'HEALTH' 'TEST BRANDCODE @1601644882019'\n",
      " 'TEST BRANDCODE @1601644363876' '511111705444' 'MUNCHIES' '511111605775'\n",
      " 'TEST BRANDCODE @1607463684816' 'TEST BRANDCODE @1598633694347'\n",
      " 'TEST BRANDCODE @1598296704639' \"ANNIE'S\" 'TEST BRANDCODE @1598881562991'\n",
      " 'TEST BRANDCODE @1598813526656' 'MIDOL' 'TWISTED RANCH' 'EMERALD'\n",
      " 'TEST BRANDCODE @1598881562500' 'TEST BRANDCODE @1598711015538'\n",
      " 'HERSHEYS HOT COCOA' 'PG TIPS' 'MUNCHOS' 'LUNCHABLES' 'WOOLITE'\n",
      " '511111104971' 'HUGGIES' 'TEST BRANDCODE @1598711015353'\n",
      " 'TEST BRANDCODE @1605535021531' 'BISCA' 'TEST BRANDCODE @1598881563900'\n",
      " 'TEST BRANDCODE @1601939762909' 'PERONI' 'TEST BRANDCODE @1598554814581'\n",
      " 'TEST BRANDCODE @1607463684722' 'BETTY CROCKER GUSHERS'\n",
      " 'TEST BRANDCODE @1597861701615' 'LUCKY CHARMS' 'BACK TO NATURE DINNERS'\n",
      " 'TEST BRANDCODE @1597350074366' 'TEST BRANDCODE @1606765578747'\n",
      " '511111305125' 'GRANDMA SYCAMORE' 'MERMAID CEREAL'\n",
      " 'TEST BRANDCODE @1597350074237' 'AQUAFINA' ' SOBE' '511111905240'\n",
      " 'TEST BRANDCODE @1599849713825' 'CAMPBELLS DINNER SAUCES ' 'WILD STYLE'\n",
      " 'DOVE BODY' 'TEST BRANDCODE @1601939012950'\n",
      " 'TEST BRANDCODE @1597342520238' 'WEIGHT WATCHERS SMART ONES'\n",
      " 'ALEVE LIQUID GELS' 'SANTITAS' 'FRUIT LOVE' 'TROPICANA' 'RAISIN NUT BRAN'\n",
      " '511111405696' 'VELVEETA' 'GOOD HUMOR' 'JUST CRACK AN EGG'\n",
      " 'TEST BRANDCODE @1604946244789' '511111305071'\n",
      " 'TEST BRANDCODE @1598813526618' 'PEPSI' \"MOTT'S\" 'RIBERHUS'\n",
      " \"HERSHEY'S PUDDING\" 'TEST BRANDCODE @1599097538395'\n",
      " 'TEST BRANDCODE @1607636368260' 'GO & GROW'\n",
      " 'TEST BRANDCODE @1595968943087' 'COUNTRY CROCK' \"STACY'S\" \"MR. YOSHIDA'S\"\n",
      " 'TEST BRANDCODE @1604437352151' 'TEST BRANDCODE @1595531348410'\n",
      " 'TEST BRANDCODE @1598296705444' 'LEA & PERRINS' 'HEINZ' 'SARA LEE '\n",
      " 'TEST BRANDCODE @1602694015481' 'OVEN FRY'\n",
      " 'TEST BRANDCODE @1598716510157' 'TWO HATS' 'STARBUCKS Bottled Drinks'\n",
      " 'FRITOS' 'PASTA RONI' 'BRAND CODE' 'ALLRECIPES' 'V8 V FUSION '\n",
      " 'TEST BRANDCODE @1599097538537' 'H20H' 'MILLER GENUINE DRAFT'\n",
      " 'TEST BRANDCODE @1603760319814' 'AMAZING GRAINS'\n",
      " 'TEST BRANDCODE @1595531348374' 'CHOCOLATE CHEERIOS' 'ONE' 'KEYSTONE ICE'\n",
      " 'DIGIORNO CHEESE' 'CALEBS KOLA' 'TEST BRANDCODE @1611088503776'\n",
      " 'PILSNER URQUELL' 'TEST BRANDCODE @1597935986474' ' MILANO'\n",
      " 'GENERAL MILLS CEREAL' 'TEST BRANDCODE @1598635635448' 'CLEAR'\n",
      " 'ARNOLD PALMER SPIKED HALF & HALF ORIGINAL' 'ABSOLUT® LIME'\n",
      " 'ABSOLUT® JUICE STRAWBERRY' 'ABSOLUT® ORIGINAL' 'ABSOLUT® MANDRIN'\n",
      " 'ABSOLUT ELYX' 'ABSOLUT® JUICE APPLE' 'ABERLOUR' 'JAMESON COLD BREW '\n",
      " 'JEFFERSON’S RESERVE' 'CAMPO VIEJO' 'KAHLUA' 'MUMM NAPA ' 'MALFY'\n",
      " 'MALIBU® LIME' 'MALIBU® STRAWBERRY' 'REDBREAST 12YO '\n",
      " 'TEST BRANDCODE @1597527951412' 'SOL' 'TEST BRANDCODE @1599159969725'\n",
      " \"WYLER'S\" 'TEST BRANDCODE @1601939762943' 'FAT RABBIT' 'TOTAL'\n",
      " 'TEST BRANDCODE @1598635435829' 'TEST BRANDCODE @1607708191093'\n",
      " 'MALIBU® PINEAPPLE' 'PURE BLISS' 'ROYAL DANSK'\n",
      " 'TEST BRANDCODE @1598711015578' 'DEVOUR' 'CAMPBELLS'\n",
      " 'TEST BRANDCODE @1595340086011' 'STUBBORN SODA' 'AVION'\n",
      " 'TEST BRANDCODE @1610039590413' 'TEST BRANDCODE @1610039590349'\n",
      " 'TEST BRANDCODE @1610039590443' 'TEST BRANDCODE @1610039590383'\n",
      " 'TEST BRANDCODE @1610039590990' 'TEST BRANDCODE @1610495622485'\n",
      " 'TEST BRANDCODE @1610496646104' 'TEST BRANDCODE @1610495622510'\n",
      " 'TEST BRANDCODE @1610495623019' 'TEST BRANDCODE @1610495622536'\n",
      " 'TEST BRANDCODE @1610495622560' 'ONE A DAY' '511111705239'\n",
      " 'COUNTRY CROCK ORIGINAL' \"HELLMANN'S/BEST FOODS\"\n",
      " 'TEST BRANDCODE @1597527951382' 'TEST BRANDCODE @1601644882040'\n",
      " 'TEST BRANDCODE @1597527952048' 'TEST BRANDCODE @1595968943787' 'TALENTI'\n",
      " 'TEST BRANDCODE @1598635634767' '511111305842' 'RED DOG' 'SMITH & FORGE'\n",
      " 'LIPTON Iced Tea Beverages' 'RUFFLES' 'V8 PLUS ENERGY ' 'POP SECRET'\n",
      " 'TEST BRANDCODE @1601939763539' 'CAPRI SUN' 'NUT HARVEST'\n",
      " 'TEST BRANDCODE @1598881563437' 'TEST BRANDCODE @1600291349208'\n",
      " 'HENRY WEINHARDS' 'TEST BRANDCODE @1599097539367' '511111905035'\n",
      " 'FRUITY CHEERIOS' 'FLINTSTONES MULTIVITAMIN GUMMY' \"FOSTER'S\"\n",
      " 'F WHITLOCK AND SONS' 'TEST BRANDCODE @1610046687007'\n",
      " 'TEST BRANDCODE @1610046687035' 'TEST BRANDCODE @1610046686980'\n",
      " 'TEST BRANDCODE @1599097538572' \"I CAN'T BELIEVE IT'S NOT BUTTER\"\n",
      " 'TEST BRANDCODE @1607463684777' 'BAKEN-ETS' 'LIBERTE'\n",
      " 'APPLE CINNAMON CHEERIOS' 'ST STEFANUS' 'DOLE CHILLED FRUIT JUICES'\n",
      " 'SUAVE' 'CLASSICO' 'STROEHMANN' 'BUBLY' '1915 BOLTHOUSE FARMS'\n",
      " 'TEST BRANDCODE @1610046687624' 'TEST BRANDCODE @1610046686954'\n",
      " 'TEST BRANDCODE @1610049748079' 'MIRALAX LAXATIVES'\n",
      " 'TEST BRANDCODE @1607708191128' 'TEST BRANDCODE @1607708191160'\n",
      " 'TEST BRANDCODE @1607708191197' 'TEST BRANDCODE @1607708191721'\n",
      " 'TEST BRANDCODE @1610562208718' 'TEST BRANDCODE @1610653894219'\n",
      " 'TEST BRANDCODE @1610562208600' 'TEST BRANDCODE @1610562208645'\n",
      " 'TEST BRANDCODE @1610562209325' 'TEST BRANDCODE @1610562208680'\n",
      " 'TEST BRANDCODE @1610660035827' 'TEST BRANDCODE @1610660035788'\n",
      " 'TEST BRANDCODE @1610660036398' 'TEST BRANDCODE @1610718082494'\n",
      " \"T.G.I. FRIDAY'S\" 'CUSQUENA' 'ARNOLD' 'MC CAFE' 'O-KE-DOKE'\n",
      " 'TEST BRANDCODE @1607312532260'\n",
      " 'ALKA SELTZER ADULT HEARTBURN CHEWS/ GUMMY/ TAB'\n",
      " 'TEST BRANDCODE @1595531348450' 'TEST BRANDCODE @1598635435926'\n",
      " 'TEST BRANDCODE @1607636368136' 'OATMEAL CRISP'\n",
      " 'TEST BRANDCODE @1609794603283' \"PHILLIPS'®DIGESTIVE\"\n",
      " 'TEST BRANDCODE @1610660035741' 'TEST BRANDCODE @1609794603237'\n",
      " 'TEST BRANDCODE @1609794603367' 'TEST BRANDCODE @1609794603327'\n",
      " 'TEST BRANDCODE @1609794603942' 'TEST BRANDCODE @1610038521409'\n",
      " 'TEST BRANDCODE @1610718082601' 'TEST BRANDCODE @1610718083279'\n",
      " 'TEST BRANDCODE @1610718082685' 'TEST BRANDCODE @1610718082644'\n",
      " 'TEST BRANDCODE @1610135036684' 'TEST BRANDCODE @1610493496943'\n",
      " 'TEST BRANDCODE @1610493089082' 'TEST BRANDCODE @1610135035614'\n",
      " 'TEST BRANDCODE @1610135035679' 'TEST BRANDCODE @1610135035546'\n",
      " 'TEST BRANDCODE @1610493088287' 'TEST BRANDCODE @1610493088459'\n",
      " 'TEST BRANDCODE @1610493088421' 'TEST BRANDCODE @1610493088494'\n",
      " 'TEST BRANDCODE @1610058181760' 'TEST BRANDCODE @1610135035332'\n",
      " 'TEST BRANDCODE @1610058182453' 'TEST BRANDCODE @1610058181682'\n",
      " 'TEST BRANDCODE @1610058181719' 'HERSHEYS CEREAL'\n",
      " 'TEST BRANDCODE @1598296704728' 'AMP' '511111905318' 'AXE'\n",
      " 'TEST BRANDCODE @1598635435855' 'TEST BRANDCODE @1606765582946'\n",
      " \"ALEXA-O'S\" '511111005704' '511111805069' 'STEEL RESERVE'\n",
      " 'POP WORKS & COMPANY' 'SABRITONES' '511111205456' 'SURE-JELL' 'TERRAPIN'\n",
      " 'SMART MADE' '511111405023' 'LOVE BEAUTY AND PLANET' 'PROTEIN ONE'\n",
      " '511111605492' 'TEST BRANDCODE @1603925787381' 'KOOL-AID'\n",
      " 'TEST BRANDCODE @1601939013241' 'ABSOLUT® CITRON' 'AVION R44'\n",
      " 'TEST BRANDCODE @1607639231710' 'MILLER FORTUNE' 'LEVER 2000' 'A+D'\n",
      " 'PULLUPS' 'TEST BRANDCODE @1606765578435' 'MOUNTAIN DEW' 'SUN CHIPS'\n",
      " 'TEST BRANDCODE @1598813527796' 'PURE LEAF Tea Leaves' 'CORN NUTS'\n",
      " \"BREAKSTONE'S\" 'SPARKS' 'TEST BRANDCODE @1598716509358' 'MAXWELL HOUSE'\n",
      " 'TEST BRANDCODE @1599849714378' 'TEST BRANDCODE @1598711015496'\n",
      " 'CONTINENTAL SOUP' 'GARNIER - HAIR COLOR' 'AFRIN® NASAL SPRAY'\n",
      " 'GOODBELLY' 'NEXXUS' 'V8' \"COLMAN'S\" 'PREGO'\n",
      " 'TEST BRANDCODE @1606765578985' 'BRUMMEL & BROWN' 'YQ YOPLAIT'\n",
      " '511111805298' 'TEST BRANDCODE @1604946244833'\n",
      " 'ALKA SELTZER COLD AND FLU TAB/ CAPS/ GEL'\n",
      " 'TEST BRANDCODE @1595531349206' '511111905806' '09090909090'\n",
      " '511111105831' 'DIETCHRIS2' 'BOLD BUTCHER' \"LAY'S\" \"BEN & JERRY'S\"\n",
      " 'TEST BRANDCODE @1598716509304' 'FRS920' 'TEST BRANDCODE @1598042673378'\n",
      " 'V8 HYDRATE' 'COUNTRY TIME' 'TEST BRANDCODE @1611088503732' 'NAKED JUICE'\n",
      " 'BREYERS' 'TEST BRANDCODE @1604437351646' '511111105275'\n",
      " 'GIRL SCOUT CEREAL' 'MILLER LITE' 'THIRD SHIFT' 'GOODNITES'\n",
      " 'TEST BRANDCODE @1599159969061' 'TEST BRANDCODE @1604434433706'\n",
      " 'MAYBELLINE' 'YOPLAIT' 'TEST BRANDCODE @1598290604214'\n",
      " 'TEST BRANDCODE @1607463684591' 'L’OREAL PARIS - HAIR COLOR'\n",
      " 'ALEVE CAPLETS, TABLETS, AND GEL CAPS' '511111605263'\n",
      " 'TEST BRANDCODE @1598633602226' 'TEST BRANDCODE @1607987891733'\n",
      " 'SAINT ARCHER' 'PHILADELPHIA' 'LATE JULY' 'FREIHOFERS' 'TYSKIE GRONIE'\n",
      " 'KLEENEX' 'TEST BRANDCODE @1601659120870' 'EL ISLENO' \"MAISER'S \"\n",
      " 'TEST BRANDCODE @1601939762976' 'VIVA' 'POISE'\n",
      " 'TEST BRANDCODE @1607639231747' 'ORE-IDA' '511111605331' 'BIAGLUT'\n",
      " 'BITTEN' 'TANG' 'PLUM ORGANICS' 'THE GLENLIVET CARIBBEAN RESERVE'\n",
      " \"THE GLENLIVET® FOUNDER'S RESERVE\" 'THE GLENLIVET® 12 YEAR ' 'TASSIMO'\n",
      " 'DIPPIN DOTS' 'STOVE TOP' 'BROWNBERRY' 'TEST BRANDCODE @1601644363664'\n",
      " 'OUI BY YOPLAIT' 'CERVEZA AGUILA' 'TEST BRANDCODE @1598716507602'\n",
      " 'TEST BRANDCODE @1600291349297' 'ICEHOUSE' 'FDS' 'BOLTHOUSE FARMS'\n",
      " 'Q-TIPS' \"HOFFMAN'S\" 'BETTY CROCKER FRUIT BY THE FOOT' 'ZUMBIDA'\n",
      " 'TEST BRANDCODE @1598296704794' 'TEST BRANDCODE @1607636368759'\n",
      " 'KRUNCHERS' 'TEST BRANDCODE @1607312532218' 'FUNYUNS'\n",
      " 'CAMPBELLS SPAGHETTIOS' 'BRUMMEL AND BROWN'\n",
      " 'TEST BRANDCODE @1597350074997' 'TEST BRANDCODE @1598711019491'\n",
      " 'SIERRA MIST' 'TEST BRANDCODE @1598881572443'\n",
      " 'TEST BRANDCODE @1598290603646' 'TEST BRANDCODE @1599159969108' 'OROWEAT'\n",
      " 'ROLD GOLD' 'TEST BRANDCODE @1611088503815'\n",
      " 'TEST BRANDCODE @1602694015992' 'TEST BRANDCODE @1595968942896'\n",
      " 'V8 SPLASH' 'KOTEX' '511111505082' 'OCEAN SPRAY' '511111305798'\n",
      " 'BAGEL BITES' 'POLLY-O' 'SUNSILK' \"BAKER'S\" 'ECCE PANIS' '511111405306'\n",
      " 'AIR WICK' \"HAMM'S\" 'TEST BRANDCODE @1599849713740' 'MONSTERS CEREAL'\n",
      " ' TAZO BOTTLED TEAS' 'TONI&GUY' '511111005377' '511111905479'\n",
      " 'TEST BRANDCODE @1597935986434' \"MICKEY'S\" 'CRYSTAL LIGHT'\n",
      " 'COORS EXTRA GOLD' 'D ITALIANO' 'TEST BRANDCODE @1600291349043'\n",
      " 'CLAUSSEN' 'BLUE MOON' 'DIPPIN DOTS CEREAL'\n",
      " 'TEST BRANDCODE @1598639215217' 'LIPTON TEA Leaves'\n",
      " 'TEST BRANDCODE @1613158231644']\n"
     ]
    }
   ],
   "source": [
    "for col in ['barcode','name','brandCode']:\n",
    "    print('Unique values of',col,'--- \\n', brands[col].unique())"
   ]
  },
  {
   "cell_type": "markdown",
   "metadata": {},
   "source": [
    "#### Reciepts Dataset Analysis"
   ]
  },
  {
   "cell_type": "code",
   "execution_count": 11,
   "metadata": {},
   "outputs": [
    {
     "data": {
      "text/html": [
       "<div>\n",
       "<style scoped>\n",
       "    .dataframe tbody tr th:only-of-type {\n",
       "        vertical-align: middle;\n",
       "    }\n",
       "\n",
       "    .dataframe tbody tr th {\n",
       "        vertical-align: top;\n",
       "    }\n",
       "\n",
       "    .dataframe thead th {\n",
       "        text-align: right;\n",
       "    }\n",
       "</style>\n",
       "<table border=\"1\" class=\"dataframe\">\n",
       "  <thead>\n",
       "    <tr style=\"text-align: right;\">\n",
       "      <th></th>\n",
       "      <th>_id</th>\n",
       "      <th>bonusPointsEarned</th>\n",
       "      <th>bonusPointsEarnedReason</th>\n",
       "      <th>createDate</th>\n",
       "      <th>dateScanned</th>\n",
       "      <th>finishedDate</th>\n",
       "      <th>modifyDate</th>\n",
       "      <th>pointsAwardedDate</th>\n",
       "      <th>pointsEarned</th>\n",
       "      <th>purchaseDate</th>\n",
       "      <th>purchasedItemCount</th>\n",
       "      <th>rewardsReceiptItemList</th>\n",
       "      <th>rewardsReceiptStatus</th>\n",
       "      <th>totalSpent</th>\n",
       "      <th>userId</th>\n",
       "    </tr>\n",
       "  </thead>\n",
       "  <tbody>\n",
       "    <tr>\n",
       "      <th>0</th>\n",
       "      <td>{'$oid': '5ff1e1eb0a720f0523000575'}</td>\n",
       "      <td>500.0</td>\n",
       "      <td>Receipt number 2 completed, bonus point schedu...</td>\n",
       "      <td>{'$date': 1609687531000}</td>\n",
       "      <td>{'$date': 1609687531000}</td>\n",
       "      <td>{'$date': 1609687531000}</td>\n",
       "      <td>{'$date': 1609687536000}</td>\n",
       "      <td>{'$date': 1609687531000}</td>\n",
       "      <td>500.0</td>\n",
       "      <td>{'$date': 1609632000000}</td>\n",
       "      <td>5.0</td>\n",
       "      <td>[{'barcode': '4011', 'description': 'ITEM NOT ...</td>\n",
       "      <td>FINISHED</td>\n",
       "      <td>26.0</td>\n",
       "      <td>5ff1e1eacfcf6c399c274ae6</td>\n",
       "    </tr>\n",
       "    <tr>\n",
       "      <th>1</th>\n",
       "      <td>{'$oid': '5ff1e1bb0a720f052300056b'}</td>\n",
       "      <td>150.0</td>\n",
       "      <td>Receipt number 5 completed, bonus point schedu...</td>\n",
       "      <td>{'$date': 1609687483000}</td>\n",
       "      <td>{'$date': 1609687483000}</td>\n",
       "      <td>{'$date': 1609687483000}</td>\n",
       "      <td>{'$date': 1609687488000}</td>\n",
       "      <td>{'$date': 1609687483000}</td>\n",
       "      <td>150.0</td>\n",
       "      <td>{'$date': 1609601083000}</td>\n",
       "      <td>2.0</td>\n",
       "      <td>[{'barcode': '4011', 'description': 'ITEM NOT ...</td>\n",
       "      <td>FINISHED</td>\n",
       "      <td>11.0</td>\n",
       "      <td>5ff1e194b6a9d73a3a9f1052</td>\n",
       "    </tr>\n",
       "    <tr>\n",
       "      <th>2</th>\n",
       "      <td>{'$oid': '5ff1e1f10a720f052300057a'}</td>\n",
       "      <td>5.0</td>\n",
       "      <td>All-receipts receipt bonus</td>\n",
       "      <td>{'$date': 1609687537000}</td>\n",
       "      <td>{'$date': 1609687537000}</td>\n",
       "      <td>NaN</td>\n",
       "      <td>{'$date': 1609687542000}</td>\n",
       "      <td>NaN</td>\n",
       "      <td>5.0</td>\n",
       "      <td>{'$date': 1609632000000}</td>\n",
       "      <td>1.0</td>\n",
       "      <td>[{'needsFetchReview': False, 'partnerItemId': ...</td>\n",
       "      <td>REJECTED</td>\n",
       "      <td>10.0</td>\n",
       "      <td>5ff1e1f1cfcf6c399c274b0b</td>\n",
       "    </tr>\n",
       "    <tr>\n",
       "      <th>3</th>\n",
       "      <td>{'$oid': '5ff1e1ee0a7214ada100056f'}</td>\n",
       "      <td>5.0</td>\n",
       "      <td>All-receipts receipt bonus</td>\n",
       "      <td>{'$date': 1609687534000}</td>\n",
       "      <td>{'$date': 1609687534000}</td>\n",
       "      <td>{'$date': 1609687534000}</td>\n",
       "      <td>{'$date': 1609687539000}</td>\n",
       "      <td>{'$date': 1609687534000}</td>\n",
       "      <td>5.0</td>\n",
       "      <td>{'$date': 1609632000000}</td>\n",
       "      <td>4.0</td>\n",
       "      <td>[{'barcode': '4011', 'description': 'ITEM NOT ...</td>\n",
       "      <td>FINISHED</td>\n",
       "      <td>28.0</td>\n",
       "      <td>5ff1e1eacfcf6c399c274ae6</td>\n",
       "    </tr>\n",
       "    <tr>\n",
       "      <th>4</th>\n",
       "      <td>{'$oid': '5ff1e1d20a7214ada1000561'}</td>\n",
       "      <td>5.0</td>\n",
       "      <td>All-receipts receipt bonus</td>\n",
       "      <td>{'$date': 1609687506000}</td>\n",
       "      <td>{'$date': 1609687506000}</td>\n",
       "      <td>{'$date': 1609687511000}</td>\n",
       "      <td>{'$date': 1609687511000}</td>\n",
       "      <td>{'$date': 1609687506000}</td>\n",
       "      <td>5.0</td>\n",
       "      <td>{'$date': 1609601106000}</td>\n",
       "      <td>2.0</td>\n",
       "      <td>[{'barcode': '4011', 'description': 'ITEM NOT ...</td>\n",
       "      <td>FINISHED</td>\n",
       "      <td>1.0</td>\n",
       "      <td>5ff1e194b6a9d73a3a9f1052</td>\n",
       "    </tr>\n",
       "  </tbody>\n",
       "</table>\n",
       "</div>"
      ],
      "text/plain": [
       "                                    _id  bonusPointsEarned  \\\n",
       "0  {'$oid': '5ff1e1eb0a720f0523000575'}              500.0   \n",
       "1  {'$oid': '5ff1e1bb0a720f052300056b'}              150.0   \n",
       "2  {'$oid': '5ff1e1f10a720f052300057a'}                5.0   \n",
       "3  {'$oid': '5ff1e1ee0a7214ada100056f'}                5.0   \n",
       "4  {'$oid': '5ff1e1d20a7214ada1000561'}                5.0   \n",
       "\n",
       "                             bonusPointsEarnedReason  \\\n",
       "0  Receipt number 2 completed, bonus point schedu...   \n",
       "1  Receipt number 5 completed, bonus point schedu...   \n",
       "2                         All-receipts receipt bonus   \n",
       "3                         All-receipts receipt bonus   \n",
       "4                         All-receipts receipt bonus   \n",
       "\n",
       "                 createDate               dateScanned  \\\n",
       "0  {'$date': 1609687531000}  {'$date': 1609687531000}   \n",
       "1  {'$date': 1609687483000}  {'$date': 1609687483000}   \n",
       "2  {'$date': 1609687537000}  {'$date': 1609687537000}   \n",
       "3  {'$date': 1609687534000}  {'$date': 1609687534000}   \n",
       "4  {'$date': 1609687506000}  {'$date': 1609687506000}   \n",
       "\n",
       "               finishedDate                modifyDate  \\\n",
       "0  {'$date': 1609687531000}  {'$date': 1609687536000}   \n",
       "1  {'$date': 1609687483000}  {'$date': 1609687488000}   \n",
       "2                       NaN  {'$date': 1609687542000}   \n",
       "3  {'$date': 1609687534000}  {'$date': 1609687539000}   \n",
       "4  {'$date': 1609687511000}  {'$date': 1609687511000}   \n",
       "\n",
       "          pointsAwardedDate  pointsEarned              purchaseDate  \\\n",
       "0  {'$date': 1609687531000}         500.0  {'$date': 1609632000000}   \n",
       "1  {'$date': 1609687483000}         150.0  {'$date': 1609601083000}   \n",
       "2                       NaN           5.0  {'$date': 1609632000000}   \n",
       "3  {'$date': 1609687534000}           5.0  {'$date': 1609632000000}   \n",
       "4  {'$date': 1609687506000}           5.0  {'$date': 1609601106000}   \n",
       "\n",
       "   purchasedItemCount                             rewardsReceiptItemList  \\\n",
       "0                 5.0  [{'barcode': '4011', 'description': 'ITEM NOT ...   \n",
       "1                 2.0  [{'barcode': '4011', 'description': 'ITEM NOT ...   \n",
       "2                 1.0  [{'needsFetchReview': False, 'partnerItemId': ...   \n",
       "3                 4.0  [{'barcode': '4011', 'description': 'ITEM NOT ...   \n",
       "4                 2.0  [{'barcode': '4011', 'description': 'ITEM NOT ...   \n",
       "\n",
       "  rewardsReceiptStatus  totalSpent                    userId  \n",
       "0             FINISHED        26.0  5ff1e1eacfcf6c399c274ae6  \n",
       "1             FINISHED        11.0  5ff1e194b6a9d73a3a9f1052  \n",
       "2             REJECTED        10.0  5ff1e1f1cfcf6c399c274b0b  \n",
       "3             FINISHED        28.0  5ff1e1eacfcf6c399c274ae6  \n",
       "4             FINISHED         1.0  5ff1e194b6a9d73a3a9f1052  "
      ]
     },
     "execution_count": 11,
     "metadata": {},
     "output_type": "execute_result"
    }
   ],
   "source": [
    "#Explore reciepts dataset on  a high level\n",
    "reciepts.head(5)"
   ]
  },
  {
   "cell_type": "code",
   "execution_count": 12,
   "metadata": {},
   "outputs": [
    {
     "data": {
      "text/plain": [
       "_id                         object\n",
       "bonusPointsEarned          float64\n",
       "bonusPointsEarnedReason     object\n",
       "createDate                  object\n",
       "dateScanned                 object\n",
       "finishedDate                object\n",
       "modifyDate                  object\n",
       "pointsAwardedDate           object\n",
       "pointsEarned               float64\n",
       "purchaseDate                object\n",
       "purchasedItemCount         float64\n",
       "rewardsReceiptItemList      object\n",
       "rewardsReceiptStatus        object\n",
       "totalSpent                 float64\n",
       "userId                      object\n",
       "dtype: object"
      ]
     },
     "execution_count": 12,
     "metadata": {},
     "output_type": "execute_result"
    }
   ],
   "source": [
    "reciepts.dtypes  "
   ]
  },
  {
   "cell_type": "code",
   "execution_count": 13,
   "metadata": {},
   "outputs": [
    {
     "data": {
      "text/plain": [
       "(1119, 15)"
      ]
     },
     "execution_count": 13,
     "metadata": {},
     "output_type": "execute_result"
    }
   ],
   "source": [
    "reciepts.shape"
   ]
  },
  {
   "cell_type": "code",
   "execution_count": 14,
   "metadata": {},
   "outputs": [
    {
     "data": {
      "text/plain": [
       "array(['FINISHED', 'REJECTED', 'FLAGGED', 'SUBMITTED', 'PENDING'],\n",
       "      dtype=object)"
      ]
     },
     "execution_count": 14,
     "metadata": {},
     "output_type": "execute_result"
    }
   ],
   "source": [
    "reciepts.rewardsReceiptStatus.unique()"
   ]
  },
  {
   "cell_type": "code",
   "execution_count": 15,
   "metadata": {},
   "outputs": [
    {
     "data": {
      "text/plain": [
       "All-receipts receipt bonus                                                             183\n",
       "Receipt number 1 completed, bonus point schedule DEFAULT (5cefdcacf3693e0b50e83a36)    119\n",
       "COMPLETE_NONPARTNER_RECEIPT                                                             71\n",
       "COMPLETE_PARTNER_RECEIPT                                                                39\n",
       "Receipt number 3 completed, bonus point schedule DEFAULT (5cefdcacf3693e0b50e83a36)     31\n",
       "Receipt number 2 completed, bonus point schedule DEFAULT (5cefdcacf3693e0b50e83a36)     30\n",
       "Receipt number 5 completed, bonus point schedule DEFAULT (5cefdcacf3693e0b50e83a36)     27\n",
       "Receipt number 4 completed, bonus point schedule DEFAULT (5cefdcacf3693e0b50e83a36)     26\n",
       "Receipt number 6 completed, bonus point schedule DEFAULT (5cefdcacf3693e0b50e83a36)     18\n",
       "Name: bonusPointsEarnedReason, dtype: int64"
      ]
     },
     "execution_count": 15,
     "metadata": {},
     "output_type": "execute_result"
    }
   ],
   "source": [
    "reciepts.bonusPointsEarnedReason.value_counts()"
   ]
  },
  {
   "cell_type": "code",
   "execution_count": 16,
   "metadata": {},
   "outputs": [
    {
     "data": {
      "text/html": [
       "<div>\n",
       "<style scoped>\n",
       "    .dataframe tbody tr th:only-of-type {\n",
       "        vertical-align: middle;\n",
       "    }\n",
       "\n",
       "    .dataframe tbody tr th {\n",
       "        vertical-align: top;\n",
       "    }\n",
       "\n",
       "    .dataframe thead th {\n",
       "        text-align: right;\n",
       "    }\n",
       "</style>\n",
       "<table border=\"1\" class=\"dataframe\">\n",
       "  <thead>\n",
       "    <tr style=\"text-align: right;\">\n",
       "      <th></th>\n",
       "      <th>bonusPointsEarnedReason</th>\n",
       "      <th>bonusPointsEarned</th>\n",
       "      <th>pointsEarned</th>\n",
       "    </tr>\n",
       "  </thead>\n",
       "  <tbody>\n",
       "    <tr>\n",
       "      <th>0</th>\n",
       "      <td>Receipt number 2 completed, bonus point schedu...</td>\n",
       "      <td>500.0</td>\n",
       "      <td>500.0</td>\n",
       "    </tr>\n",
       "    <tr>\n",
       "      <th>1</th>\n",
       "      <td>Receipt number 5 completed, bonus point schedu...</td>\n",
       "      <td>150.0</td>\n",
       "      <td>150.0</td>\n",
       "    </tr>\n",
       "    <tr>\n",
       "      <th>2</th>\n",
       "      <td>All-receipts receipt bonus</td>\n",
       "      <td>5.0</td>\n",
       "      <td>5.0</td>\n",
       "    </tr>\n",
       "    <tr>\n",
       "      <th>5</th>\n",
       "      <td>Receipt number 1 completed, bonus point schedu...</td>\n",
       "      <td>750.0</td>\n",
       "      <td>750.0</td>\n",
       "    </tr>\n",
       "    <tr>\n",
       "      <th>9</th>\n",
       "      <td>Receipt number 3 completed, bonus point schedu...</td>\n",
       "      <td>250.0</td>\n",
       "      <td>250.0</td>\n",
       "    </tr>\n",
       "    <tr>\n",
       "      <th>10</th>\n",
       "      <td>Receipt number 6 completed, bonus point schedu...</td>\n",
       "      <td>100.0</td>\n",
       "      <td>100.0</td>\n",
       "    </tr>\n",
       "    <tr>\n",
       "      <th>14</th>\n",
       "      <td>Receipt number 4 completed, bonus point schedu...</td>\n",
       "      <td>300.0</td>\n",
       "      <td>300.0</td>\n",
       "    </tr>\n",
       "    <tr>\n",
       "      <th>47</th>\n",
       "      <td>COMPLETE_NONPARTNER_RECEIPT</td>\n",
       "      <td>25.0</td>\n",
       "      <td>25.0</td>\n",
       "    </tr>\n",
       "  </tbody>\n",
       "</table>\n",
       "</div>"
      ],
      "text/plain": [
       "                              bonusPointsEarnedReason  bonusPointsEarned  \\\n",
       "0   Receipt number 2 completed, bonus point schedu...              500.0   \n",
       "1   Receipt number 5 completed, bonus point schedu...              150.0   \n",
       "2                          All-receipts receipt bonus                5.0   \n",
       "5   Receipt number 1 completed, bonus point schedu...              750.0   \n",
       "9   Receipt number 3 completed, bonus point schedu...              250.0   \n",
       "10  Receipt number 6 completed, bonus point schedu...              100.0   \n",
       "14  Receipt number 4 completed, bonus point schedu...              300.0   \n",
       "47                        COMPLETE_NONPARTNER_RECEIPT               25.0   \n",
       "\n",
       "    pointsEarned  \n",
       "0          500.0  \n",
       "1          150.0  \n",
       "2            5.0  \n",
       "5          750.0  \n",
       "9          250.0  \n",
       "10         100.0  \n",
       "14         300.0  \n",
       "47          25.0  "
      ]
     },
     "execution_count": 16,
     "metadata": {},
     "output_type": "execute_result"
    }
   ],
   "source": [
    "df_temp =reciepts[['bonusPointsEarnedReason','bonusPointsEarned','pointsEarned']]\n",
    "df_temp = df_temp.drop_duplicates()\n",
    "df_temp[df_temp['bonusPointsEarned'] == df_temp['pointsEarned']]"
   ]
  },
  {
   "cell_type": "code",
   "execution_count": 17,
   "metadata": {},
   "outputs": [
    {
     "data": {
      "text/html": [
       "<div>\n",
       "<style scoped>\n",
       "    .dataframe tbody tr th:only-of-type {\n",
       "        vertical-align: middle;\n",
       "    }\n",
       "\n",
       "    .dataframe tbody tr th {\n",
       "        vertical-align: top;\n",
       "    }\n",
       "\n",
       "    .dataframe thead th {\n",
       "        text-align: right;\n",
       "    }\n",
       "</style>\n",
       "<table border=\"1\" class=\"dataframe\">\n",
       "  <thead>\n",
       "    <tr style=\"text-align: right;\">\n",
       "      <th></th>\n",
       "      <th>bonusPointsEarnedReason</th>\n",
       "      <th>bonusPointsEarned</th>\n",
       "      <th>pointsEarned</th>\n",
       "    </tr>\n",
       "  </thead>\n",
       "  <tbody>\n",
       "    <tr>\n",
       "      <th>12</th>\n",
       "      <td>Receipt number 5 completed, bonus point schedu...</td>\n",
       "      <td>150.0</td>\n",
       "      <td>8850.0</td>\n",
       "    </tr>\n",
       "    <tr>\n",
       "      <th>15</th>\n",
       "      <td>NaN</td>\n",
       "      <td>NaN</td>\n",
       "      <td>NaN</td>\n",
       "    </tr>\n",
       "    <tr>\n",
       "      <th>20</th>\n",
       "      <td>Receipt number 4 completed, bonus point schedu...</td>\n",
       "      <td>300.0</td>\n",
       "      <td>389.2</td>\n",
       "    </tr>\n",
       "    <tr>\n",
       "      <th>23</th>\n",
       "      <td>COMPLETE_PARTNER_RECEIPT</td>\n",
       "      <td>40.0</td>\n",
       "      <td>185.0</td>\n",
       "    </tr>\n",
       "    <tr>\n",
       "      <th>27</th>\n",
       "      <td>COMPLETE_NONPARTNER_RECEIPT</td>\n",
       "      <td>25.0</td>\n",
       "      <td>35.0</td>\n",
       "    </tr>\n",
       "    <tr>\n",
       "      <th>...</th>\n",
       "      <td>...</td>\n",
       "      <td>...</td>\n",
       "      <td>...</td>\n",
       "    </tr>\n",
       "    <tr>\n",
       "      <th>643</th>\n",
       "      <td>NaN</td>\n",
       "      <td>NaN</td>\n",
       "      <td>209.8</td>\n",
       "    </tr>\n",
       "    <tr>\n",
       "      <th>664</th>\n",
       "      <td>NaN</td>\n",
       "      <td>NaN</td>\n",
       "      <td>210.0</td>\n",
       "    </tr>\n",
       "    <tr>\n",
       "      <th>667</th>\n",
       "      <td>NaN</td>\n",
       "      <td>NaN</td>\n",
       "      <td>209.5</td>\n",
       "    </tr>\n",
       "    <tr>\n",
       "      <th>917</th>\n",
       "      <td>Receipt number 1 completed, bonus point schedu...</td>\n",
       "      <td>750.0</td>\n",
       "      <td>789.2</td>\n",
       "    </tr>\n",
       "    <tr>\n",
       "      <th>956</th>\n",
       "      <td>Receipt number 2 completed, bonus point schedu...</td>\n",
       "      <td>500.0</td>\n",
       "      <td>3500.0</td>\n",
       "    </tr>\n",
       "  </tbody>\n",
       "</table>\n",
       "<p>128 rows × 3 columns</p>\n",
       "</div>"
      ],
      "text/plain": [
       "                               bonusPointsEarnedReason  bonusPointsEarned  \\\n",
       "12   Receipt number 5 completed, bonus point schedu...              150.0   \n",
       "15                                                 NaN                NaN   \n",
       "20   Receipt number 4 completed, bonus point schedu...              300.0   \n",
       "23                            COMPLETE_PARTNER_RECEIPT               40.0   \n",
       "27                         COMPLETE_NONPARTNER_RECEIPT               25.0   \n",
       "..                                                 ...                ...   \n",
       "643                                                NaN                NaN   \n",
       "664                                                NaN                NaN   \n",
       "667                                                NaN                NaN   \n",
       "917  Receipt number 1 completed, bonus point schedu...              750.0   \n",
       "956  Receipt number 2 completed, bonus point schedu...              500.0   \n",
       "\n",
       "     pointsEarned  \n",
       "12         8850.0  \n",
       "15            NaN  \n",
       "20          389.2  \n",
       "23          185.0  \n",
       "27           35.0  \n",
       "..            ...  \n",
       "643         209.8  \n",
       "664         210.0  \n",
       "667         209.5  \n",
       "917         789.2  \n",
       "956        3500.0  \n",
       "\n",
       "[128 rows x 3 columns]"
      ]
     },
     "execution_count": 17,
     "metadata": {},
     "output_type": "execute_result"
    }
   ],
   "source": [
    "df_temp[df_temp['bonusPointsEarned'] != df_temp['pointsEarned']]"
   ]
  },
  {
   "cell_type": "markdown",
   "metadata": {},
   "source": [
    "##### Comments: \n",
    "\n",
    "A clear understanding of how the data is saved to `bonusPointsEarned` and `pointsEarned` cannot be gained. Sometimes the value is same and sometimes it is not. There could possibly be a better way to store this data."
   ]
  },
  {
   "cell_type": "code",
   "execution_count": 18,
   "metadata": {},
   "outputs": [
    {
     "data": {
      "text/plain": [
       "0       [{'barcode': '4011', 'description': 'ITEM NOT ...\n",
       "1       [{'barcode': '4011', 'description': 'ITEM NOT ...\n",
       "2       [{'needsFetchReview': False, 'partnerItemId': ...\n",
       "3       [{'barcode': '4011', 'description': 'ITEM NOT ...\n",
       "4       [{'barcode': '4011', 'description': 'ITEM NOT ...\n",
       "                              ...                        \n",
       "1114    [{'barcode': 'B076FJ92M4', 'description': 'mue...\n",
       "1115                                                  NaN\n",
       "1116                                                  NaN\n",
       "1117    [{'barcode': 'B076FJ92M4', 'description': 'mue...\n",
       "1118                                                  NaN\n",
       "Name: rewardsReceiptItemList, Length: 1119, dtype: object"
      ]
     },
     "execution_count": 18,
     "metadata": {},
     "output_type": "execute_result"
    }
   ],
   "source": [
    "reciepts.rewardsReceiptItemList"
   ]
  },
  {
   "cell_type": "markdown",
   "metadata": {},
   "source": [
    "##### Comments :\n",
    "\n",
    "reciepts violates 1NF due to presence of nested data/array. Hence it is not a relational model.\n",
    "Relation Decomposition is necessary to convert it into a relational model."
   ]
  },
  {
   "cell_type": "markdown",
   "metadata": {},
   "source": [
    "##### Test data integrity of data"
   ]
  },
  {
   "cell_type": "code",
   "execution_count": 19,
   "metadata": {},
   "outputs": [],
   "source": [
    "#udf for aggregating total finalPrice of each item in reciept item list of a given reciept\n",
    "\n",
    "def agg_finalPrice_receipt_itms(row):\n",
    "    columns = ['barcode','description','finalPrice','quantityPurchased']\n",
    "    df_rct_itms = pd.DataFrame(columns = columns)\n",
    "    data = []\n",
    "\n",
    "    for dic in row['rewardsReceiptItemList']:\n",
    "#             for dic in item:\n",
    "                values =[dic.get('barcode')\n",
    "                        ,dic.get('description')\n",
    "                        ,float(dic.get('finalPrice'))\n",
    "                        ,dic.get('quantityPurchased')]\n",
    "                zipped = zip(columns, values)\n",
    "                a_dictionary = dict(zipped)\n",
    "                data.append(a_dictionary)\n",
    "\n",
    "    df_rct_itms = df_rct_itms.append(data, True)\n",
    "    return [row.totalSpent,round(df_rct_itms.finalPrice.sum(),2)]"
   ]
  },
  {
   "cell_type": "code",
   "execution_count": 20,
   "metadata": {},
   "outputs": [
    {
     "data": {
      "text/plain": [
       "423    [1183.1, 1183.1]\n",
       "dtype: object"
      ]
     },
     "execution_count": 20,
     "metadata": {},
     "output_type": "execute_result"
    },
    {
     "data": {
      "text/plain": [
       "650    [28.0, 28.0]\n",
       "dtype: object"
      ]
     },
     "execution_count": 20,
     "metadata": {},
     "output_type": "execute_result"
    }
   ],
   "source": [
    "reciepts.iloc[[423]].apply(agg_finalPrice_receipt_itms, axis=1)\n",
    "reciepts.iloc[[650]].apply(agg_finalPrice_receipt_itms, axis=1)"
   ]
  },
  {
   "cell_type": "markdown",
   "metadata": {},
   "source": [
    "##### Noteworthy:\n",
    "This code could be further enhanced to make a mapping of reciept index, totalSpent, sum(finalPriceofRctItems) on entire dataset"
   ]
  },
  {
   "cell_type": "code",
   "execution_count": 21,
   "metadata": {},
   "outputs": [
    {
     "ename": "TypeError",
     "evalue": "float() argument must be a string or a number, not 'NoneType'",
     "output_type": "error",
     "traceback": [
      "\u001b[0;31m---------------------------------------------------------------------------\u001b[0m",
      "\u001b[0;31mTypeError\u001b[0m                                 Traceback (most recent call last)",
      "\u001b[0;32m<ipython-input-21-ac60f016f2db>\u001b[0m in \u001b[0;36m<module>\u001b[0;34m\u001b[0m\n\u001b[0;32m----> 1\u001b[0;31m \u001b[0mreciepts\u001b[0m\u001b[0;34m.\u001b[0m\u001b[0mapply\u001b[0m\u001b[0;34m(\u001b[0m\u001b[0magg_finalPrice_receipt_itms\u001b[0m\u001b[0;34m,\u001b[0m \u001b[0maxis\u001b[0m\u001b[0;34m=\u001b[0m\u001b[0;36m1\u001b[0m\u001b[0;34m)\u001b[0m\u001b[0;34m\u001b[0m\u001b[0;34m\u001b[0m\u001b[0m\n\u001b[0m",
      "\u001b[0;32m~/opt/anaconda3/lib/python3.7/site-packages/pandas/core/frame.py\u001b[0m in \u001b[0;36mapply\u001b[0;34m(self, func, axis, raw, result_type, args, **kwds)\u001b[0m\n\u001b[1;32m   6876\u001b[0m             \u001b[0mkwds\u001b[0m\u001b[0;34m=\u001b[0m\u001b[0mkwds\u001b[0m\u001b[0;34m,\u001b[0m\u001b[0;34m\u001b[0m\u001b[0;34m\u001b[0m\u001b[0m\n\u001b[1;32m   6877\u001b[0m         )\n\u001b[0;32m-> 6878\u001b[0;31m         \u001b[0;32mreturn\u001b[0m \u001b[0mop\u001b[0m\u001b[0;34m.\u001b[0m\u001b[0mget_result\u001b[0m\u001b[0;34m(\u001b[0m\u001b[0;34m)\u001b[0m\u001b[0;34m\u001b[0m\u001b[0;34m\u001b[0m\u001b[0m\n\u001b[0m\u001b[1;32m   6879\u001b[0m \u001b[0;34m\u001b[0m\u001b[0m\n\u001b[1;32m   6880\u001b[0m     \u001b[0;32mdef\u001b[0m \u001b[0mapplymap\u001b[0m\u001b[0;34m(\u001b[0m\u001b[0mself\u001b[0m\u001b[0;34m,\u001b[0m \u001b[0mfunc\u001b[0m\u001b[0;34m)\u001b[0m \u001b[0;34m->\u001b[0m \u001b[0;34m\"DataFrame\"\u001b[0m\u001b[0;34m:\u001b[0m\u001b[0;34m\u001b[0m\u001b[0;34m\u001b[0m\u001b[0m\n",
      "\u001b[0;32m~/opt/anaconda3/lib/python3.7/site-packages/pandas/core/apply.py\u001b[0m in \u001b[0;36mget_result\u001b[0;34m(self)\u001b[0m\n\u001b[1;32m    184\u001b[0m             \u001b[0;32mreturn\u001b[0m \u001b[0mself\u001b[0m\u001b[0;34m.\u001b[0m\u001b[0mapply_raw\u001b[0m\u001b[0;34m(\u001b[0m\u001b[0;34m)\u001b[0m\u001b[0;34m\u001b[0m\u001b[0;34m\u001b[0m\u001b[0m\n\u001b[1;32m    185\u001b[0m \u001b[0;34m\u001b[0m\u001b[0m\n\u001b[0;32m--> 186\u001b[0;31m         \u001b[0;32mreturn\u001b[0m \u001b[0mself\u001b[0m\u001b[0;34m.\u001b[0m\u001b[0mapply_standard\u001b[0m\u001b[0;34m(\u001b[0m\u001b[0;34m)\u001b[0m\u001b[0;34m\u001b[0m\u001b[0;34m\u001b[0m\u001b[0m\n\u001b[0m\u001b[1;32m    187\u001b[0m \u001b[0;34m\u001b[0m\u001b[0m\n\u001b[1;32m    188\u001b[0m     \u001b[0;32mdef\u001b[0m \u001b[0mapply_empty_result\u001b[0m\u001b[0;34m(\u001b[0m\u001b[0mself\u001b[0m\u001b[0;34m)\u001b[0m\u001b[0;34m:\u001b[0m\u001b[0;34m\u001b[0m\u001b[0;34m\u001b[0m\u001b[0m\n",
      "\u001b[0;32m~/opt/anaconda3/lib/python3.7/site-packages/pandas/core/apply.py\u001b[0m in \u001b[0;36mapply_standard\u001b[0;34m(self)\u001b[0m\n\u001b[1;32m    294\u001b[0m             \u001b[0;32mtry\u001b[0m\u001b[0;34m:\u001b[0m\u001b[0;34m\u001b[0m\u001b[0;34m\u001b[0m\u001b[0m\n\u001b[1;32m    295\u001b[0m                 result = libreduction.compute_reduction(\n\u001b[0;32m--> 296\u001b[0;31m                     \u001b[0mvalues\u001b[0m\u001b[0;34m,\u001b[0m \u001b[0mself\u001b[0m\u001b[0;34m.\u001b[0m\u001b[0mf\u001b[0m\u001b[0;34m,\u001b[0m \u001b[0maxis\u001b[0m\u001b[0;34m=\u001b[0m\u001b[0mself\u001b[0m\u001b[0;34m.\u001b[0m\u001b[0maxis\u001b[0m\u001b[0;34m,\u001b[0m \u001b[0mdummy\u001b[0m\u001b[0;34m=\u001b[0m\u001b[0mdummy\u001b[0m\u001b[0;34m,\u001b[0m \u001b[0mlabels\u001b[0m\u001b[0;34m=\u001b[0m\u001b[0mlabels\u001b[0m\u001b[0;34m\u001b[0m\u001b[0;34m\u001b[0m\u001b[0m\n\u001b[0m\u001b[1;32m    297\u001b[0m                 )\n\u001b[1;32m    298\u001b[0m             \u001b[0;32mexcept\u001b[0m \u001b[0mValueError\u001b[0m \u001b[0;32mas\u001b[0m \u001b[0merr\u001b[0m\u001b[0;34m:\u001b[0m\u001b[0;34m\u001b[0m\u001b[0;34m\u001b[0m\u001b[0m\n",
      "\u001b[0;32mpandas/_libs/reduction.pyx\u001b[0m in \u001b[0;36mpandas._libs.reduction.compute_reduction\u001b[0;34m()\u001b[0m\n",
      "\u001b[0;32mpandas/_libs/reduction.pyx\u001b[0m in \u001b[0;36mpandas._libs.reduction.Reducer.get_result\u001b[0;34m()\u001b[0m\n",
      "\u001b[0;32m<ipython-input-19-2396151b96ef>\u001b[0m in \u001b[0;36magg_finalPrice_receipt_itms\u001b[0;34m(row)\u001b[0m\n\u001b[1;32m     10\u001b[0m                 values =[dic.get('barcode')\n\u001b[1;32m     11\u001b[0m                         \u001b[0;34m,\u001b[0m\u001b[0mdic\u001b[0m\u001b[0;34m.\u001b[0m\u001b[0mget\u001b[0m\u001b[0;34m(\u001b[0m\u001b[0;34m'description'\u001b[0m\u001b[0;34m)\u001b[0m\u001b[0;34m\u001b[0m\u001b[0;34m\u001b[0m\u001b[0m\n\u001b[0;32m---> 12\u001b[0;31m                         \u001b[0;34m,\u001b[0m\u001b[0mfloat\u001b[0m\u001b[0;34m(\u001b[0m\u001b[0mdic\u001b[0m\u001b[0;34m.\u001b[0m\u001b[0mget\u001b[0m\u001b[0;34m(\u001b[0m\u001b[0;34m'finalPrice'\u001b[0m\u001b[0;34m)\u001b[0m\u001b[0;34m)\u001b[0m\u001b[0;34m\u001b[0m\u001b[0;34m\u001b[0m\u001b[0m\n\u001b[0m\u001b[1;32m     13\u001b[0m                         ,dic.get('quantityPurchased')]\n\u001b[1;32m     14\u001b[0m                 \u001b[0mzipped\u001b[0m \u001b[0;34m=\u001b[0m \u001b[0mzip\u001b[0m\u001b[0;34m(\u001b[0m\u001b[0mcolumns\u001b[0m\u001b[0;34m,\u001b[0m \u001b[0mvalues\u001b[0m\u001b[0;34m)\u001b[0m\u001b[0;34m\u001b[0m\u001b[0;34m\u001b[0m\u001b[0m\n",
      "\u001b[0;31mTypeError\u001b[0m: float() argument must be a string or a number, not 'NoneType'"
     ]
    }
   ],
   "source": [
    "reciepts.apply(agg_finalPrice_receipt_itms, axis=1)"
   ]
  },
  {
   "cell_type": "code",
   "execution_count": null,
   "metadata": {},
   "outputs": [],
   "source": [
    "for item in reciepts.iloc[[423]].rewardsReceiptItemList:\n",
    "     for dic in item:\n",
    "        print([k  for  k in  dic.keys()])"
   ]
  }
 ],
 "metadata": {
  "kernelspec": {
   "display_name": "Python 3",
   "language": "python",
   "name": "python3"
  },
  "language_info": {
   "codemirror_mode": {
    "name": "ipython",
    "version": 3
   },
   "file_extension": ".py",
   "mimetype": "text/x-python",
   "name": "python",
   "nbconvert_exporter": "python",
   "pygments_lexer": "ipython3",
   "version": "3.7.6"
  }
 },
 "nbformat": 4,
 "nbformat_minor": 4
}
