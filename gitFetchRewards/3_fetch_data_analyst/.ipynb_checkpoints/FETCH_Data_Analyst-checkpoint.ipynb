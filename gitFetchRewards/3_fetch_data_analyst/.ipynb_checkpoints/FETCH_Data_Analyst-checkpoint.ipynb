{
 "cells": [
  {
   "cell_type": "markdown",
   "metadata": {},
   "source": [
    "#### Imports"
   ]
  },
  {
   "cell_type": "code",
   "execution_count": 2,
   "metadata": {},
   "outputs": [],
   "source": [
    "from IPython.core.interactiveshell import InteractiveShell\n",
    "InteractiveShell.ast_node_interactivity = \"all\"\n",
    "\n",
    "import pandas as pd\n",
    "import numpy as np"
   ]
  },
  {
   "cell_type": "markdown",
   "metadata": {},
   "source": [
    "#### Load Data"
   ]
  },
  {
   "cell_type": "code",
   "execution_count": 3,
   "metadata": {},
   "outputs": [],
   "source": [
    "users = pd.read_json('./data/users.json/users.json', lines=True)\n",
    "brands = pd.read_json('./data/brands.json/brands.json', lines=True)\n",
    "reciepts = pd.read_json('./data/receipts.json/receipts.json', lines=True)"
   ]
  },
  {
   "cell_type": "markdown",
   "metadata": {},
   "source": [
    "#### Users Dataset Analysis"
   ]
  },
  {
   "cell_type": "code",
   "execution_count": 4,
   "metadata": {},
   "outputs": [
    {
     "data": {
      "text/html": [
       "<div>\n",
       "<style scoped>\n",
       "    .dataframe tbody tr th:only-of-type {\n",
       "        vertical-align: middle;\n",
       "    }\n",
       "\n",
       "    .dataframe tbody tr th {\n",
       "        vertical-align: top;\n",
       "    }\n",
       "\n",
       "    .dataframe thead th {\n",
       "        text-align: right;\n",
       "    }\n",
       "</style>\n",
       "<table border=\"1\" class=\"dataframe\">\n",
       "  <thead>\n",
       "    <tr style=\"text-align: right;\">\n",
       "      <th></th>\n",
       "      <th>_id</th>\n",
       "      <th>active</th>\n",
       "      <th>createdDate</th>\n",
       "      <th>lastLogin</th>\n",
       "      <th>role</th>\n",
       "      <th>signUpSource</th>\n",
       "      <th>state</th>\n",
       "    </tr>\n",
       "  </thead>\n",
       "  <tbody>\n",
       "    <tr>\n",
       "      <th>0</th>\n",
       "      <td>{'$oid': '5ff1e194b6a9d73a3a9f1052'}</td>\n",
       "      <td>True</td>\n",
       "      <td>{'$date': 1609687444800}</td>\n",
       "      <td>{'$date': 1609687537858}</td>\n",
       "      <td>consumer</td>\n",
       "      <td>Email</td>\n",
       "      <td>WI</td>\n",
       "    </tr>\n",
       "    <tr>\n",
       "      <th>1</th>\n",
       "      <td>{'$oid': '5ff1e194b6a9d73a3a9f1052'}</td>\n",
       "      <td>True</td>\n",
       "      <td>{'$date': 1609687444800}</td>\n",
       "      <td>{'$date': 1609687537858}</td>\n",
       "      <td>consumer</td>\n",
       "      <td>Email</td>\n",
       "      <td>WI</td>\n",
       "    </tr>\n",
       "    <tr>\n",
       "      <th>2</th>\n",
       "      <td>{'$oid': '5ff1e194b6a9d73a3a9f1052'}</td>\n",
       "      <td>True</td>\n",
       "      <td>{'$date': 1609687444800}</td>\n",
       "      <td>{'$date': 1609687537858}</td>\n",
       "      <td>consumer</td>\n",
       "      <td>Email</td>\n",
       "      <td>WI</td>\n",
       "    </tr>\n",
       "    <tr>\n",
       "      <th>3</th>\n",
       "      <td>{'$oid': '5ff1e1eacfcf6c399c274ae6'}</td>\n",
       "      <td>True</td>\n",
       "      <td>{'$date': 1609687530554}</td>\n",
       "      <td>{'$date': 1609687530597}</td>\n",
       "      <td>consumer</td>\n",
       "      <td>Email</td>\n",
       "      <td>WI</td>\n",
       "    </tr>\n",
       "    <tr>\n",
       "      <th>4</th>\n",
       "      <td>{'$oid': '5ff1e194b6a9d73a3a9f1052'}</td>\n",
       "      <td>True</td>\n",
       "      <td>{'$date': 1609687444800}</td>\n",
       "      <td>{'$date': 1609687537858}</td>\n",
       "      <td>consumer</td>\n",
       "      <td>Email</td>\n",
       "      <td>WI</td>\n",
       "    </tr>\n",
       "  </tbody>\n",
       "</table>\n",
       "</div>"
      ],
      "text/plain": [
       "                                    _id  active               createdDate  \\\n",
       "0  {'$oid': '5ff1e194b6a9d73a3a9f1052'}    True  {'$date': 1609687444800}   \n",
       "1  {'$oid': '5ff1e194b6a9d73a3a9f1052'}    True  {'$date': 1609687444800}   \n",
       "2  {'$oid': '5ff1e194b6a9d73a3a9f1052'}    True  {'$date': 1609687444800}   \n",
       "3  {'$oid': '5ff1e1eacfcf6c399c274ae6'}    True  {'$date': 1609687530554}   \n",
       "4  {'$oid': '5ff1e194b6a9d73a3a9f1052'}    True  {'$date': 1609687444800}   \n",
       "\n",
       "                  lastLogin      role signUpSource state  \n",
       "0  {'$date': 1609687537858}  consumer        Email    WI  \n",
       "1  {'$date': 1609687537858}  consumer        Email    WI  \n",
       "2  {'$date': 1609687537858}  consumer        Email    WI  \n",
       "3  {'$date': 1609687530597}  consumer        Email    WI  \n",
       "4  {'$date': 1609687537858}  consumer        Email    WI  "
      ]
     },
     "execution_count": 4,
     "metadata": {},
     "output_type": "execute_result"
    }
   ],
   "source": [
    "#Explore users dataset on  a high level\n",
    "users.head(5)"
   ]
  },
  {
   "cell_type": "code",
   "execution_count": 5,
   "metadata": {},
   "outputs": [
    {
     "data": {
      "text/plain": [
       "_id             object\n",
       "active            bool\n",
       "createdDate     object\n",
       "lastLogin       object\n",
       "role            object\n",
       "signUpSource    object\n",
       "state           object\n",
       "dtype: object"
      ]
     },
     "execution_count": 5,
     "metadata": {},
     "output_type": "execute_result"
    }
   ],
   "source": [
    "users.dtypes  "
   ]
  },
  {
   "cell_type": "code",
   "execution_count": 6,
   "metadata": {},
   "outputs": [
    {
     "data": {
      "text/plain": [
       "(495, 7)"
      ]
     },
     "execution_count": 6,
     "metadata": {},
     "output_type": "execute_result"
    }
   ],
   "source": [
    "users.shape"
   ]
  },
  {
   "cell_type": "code",
   "execution_count": 7,
   "metadata": {},
   "outputs": [
    {
     "name": "stdout",
     "output_type": "stream",
     "text": [
      "Unique values in dict columns:\n",
      "active --- [ True False]\n",
      "role --- ['consumer' 'fetch-staff']\n",
      "signUpSource --- ['Email' 'Google' nan]\n",
      "state --- ['WI' 'KY' 'AL' 'CO' 'IL' nan 'OH' 'SC' 'NH']\n"
     ]
    }
   ],
   "source": [
    "non_dic_columns=['active','role','signUpSource','state']\n",
    "\n",
    "print(\"Unique values in dict columns:\")\n",
    "for col in non_dic_columns:\n",
    "    print(col,'---', users[col].unique())"
   ]
  },
  {
   "cell_type": "code",
   "execution_count": 31,
   "metadata": {},
   "outputs": [
    {
     "name": "stdout",
     "output_type": "stream",
     "text": [
      "Unique user ids: 212\n",
      "Total user ids: 495\n"
     ]
    }
   ],
   "source": [
    "def convert_to_string(val):\n",
    "    return str(val)\n",
    "\n",
    "users['id'] = users['_id'].apply(convert_to_string)\n",
    "\n",
    "print('Unique user ids:', users.id.nunique())\n",
    "print('Total user ids:', len(users.id))\n"
   ]
  },
  {
   "cell_type": "markdown",
   "metadata": {},
   "source": [
    "#### Observations Users Dataset:\n",
    "    \n",
    "1. Documentation says-  users.`role: constant value set to 'CONSUMER'`. But 2 unique values found in dataset.\n",
    "2. SignUpSource and State has nan values. #### Is this important?\n",
    "3. The users table should only have unique user ids to avoid redundancy of data and efficient qquerying.\n",
    "4. All dates are a numeric value. Unknown if dates were lost in conversion or dummy data."
   ]
  },
  {
   "cell_type": "markdown",
   "metadata": {},
   "source": [
    "#### Reciepts Dataset Analysis"
   ]
  },
  {
   "cell_type": "code",
   "execution_count": 7,
   "metadata": {},
   "outputs": [
    {
     "data": {
      "text/html": [
       "<div>\n",
       "<style scoped>\n",
       "    .dataframe tbody tr th:only-of-type {\n",
       "        vertical-align: middle;\n",
       "    }\n",
       "\n",
       "    .dataframe tbody tr th {\n",
       "        vertical-align: top;\n",
       "    }\n",
       "\n",
       "    .dataframe thead th {\n",
       "        text-align: right;\n",
       "    }\n",
       "</style>\n",
       "<table border=\"1\" class=\"dataframe\">\n",
       "  <thead>\n",
       "    <tr style=\"text-align: right;\">\n",
       "      <th></th>\n",
       "      <th>_id</th>\n",
       "      <th>bonusPointsEarned</th>\n",
       "      <th>bonusPointsEarnedReason</th>\n",
       "      <th>createDate</th>\n",
       "      <th>dateScanned</th>\n",
       "      <th>finishedDate</th>\n",
       "      <th>modifyDate</th>\n",
       "      <th>pointsAwardedDate</th>\n",
       "      <th>pointsEarned</th>\n",
       "      <th>purchaseDate</th>\n",
       "      <th>purchasedItemCount</th>\n",
       "      <th>rewardsReceiptItemList</th>\n",
       "      <th>rewardsReceiptStatus</th>\n",
       "      <th>totalSpent</th>\n",
       "      <th>userId</th>\n",
       "    </tr>\n",
       "  </thead>\n",
       "  <tbody>\n",
       "    <tr>\n",
       "      <th>0</th>\n",
       "      <td>{'$oid': '5ff1e1eb0a720f0523000575'}</td>\n",
       "      <td>500.0</td>\n",
       "      <td>Receipt number 2 completed, bonus point schedu...</td>\n",
       "      <td>{'$date': 1609687531000}</td>\n",
       "      <td>{'$date': 1609687531000}</td>\n",
       "      <td>{'$date': 1609687531000}</td>\n",
       "      <td>{'$date': 1609687536000}</td>\n",
       "      <td>{'$date': 1609687531000}</td>\n",
       "      <td>500.0</td>\n",
       "      <td>{'$date': 1609632000000}</td>\n",
       "      <td>5.0</td>\n",
       "      <td>[{'barcode': '4011', 'description': 'ITEM NOT ...</td>\n",
       "      <td>FINISHED</td>\n",
       "      <td>26.0</td>\n",
       "      <td>5ff1e1eacfcf6c399c274ae6</td>\n",
       "    </tr>\n",
       "    <tr>\n",
       "      <th>1</th>\n",
       "      <td>{'$oid': '5ff1e1bb0a720f052300056b'}</td>\n",
       "      <td>150.0</td>\n",
       "      <td>Receipt number 5 completed, bonus point schedu...</td>\n",
       "      <td>{'$date': 1609687483000}</td>\n",
       "      <td>{'$date': 1609687483000}</td>\n",
       "      <td>{'$date': 1609687483000}</td>\n",
       "      <td>{'$date': 1609687488000}</td>\n",
       "      <td>{'$date': 1609687483000}</td>\n",
       "      <td>150.0</td>\n",
       "      <td>{'$date': 1609601083000}</td>\n",
       "      <td>2.0</td>\n",
       "      <td>[{'barcode': '4011', 'description': 'ITEM NOT ...</td>\n",
       "      <td>FINISHED</td>\n",
       "      <td>11.0</td>\n",
       "      <td>5ff1e194b6a9d73a3a9f1052</td>\n",
       "    </tr>\n",
       "    <tr>\n",
       "      <th>2</th>\n",
       "      <td>{'$oid': '5ff1e1f10a720f052300057a'}</td>\n",
       "      <td>5.0</td>\n",
       "      <td>All-receipts receipt bonus</td>\n",
       "      <td>{'$date': 1609687537000}</td>\n",
       "      <td>{'$date': 1609687537000}</td>\n",
       "      <td>NaN</td>\n",
       "      <td>{'$date': 1609687542000}</td>\n",
       "      <td>NaN</td>\n",
       "      <td>5.0</td>\n",
       "      <td>{'$date': 1609632000000}</td>\n",
       "      <td>1.0</td>\n",
       "      <td>[{'needsFetchReview': False, 'partnerItemId': ...</td>\n",
       "      <td>REJECTED</td>\n",
       "      <td>10.0</td>\n",
       "      <td>5ff1e1f1cfcf6c399c274b0b</td>\n",
       "    </tr>\n",
       "    <tr>\n",
       "      <th>3</th>\n",
       "      <td>{'$oid': '5ff1e1ee0a7214ada100056f'}</td>\n",
       "      <td>5.0</td>\n",
       "      <td>All-receipts receipt bonus</td>\n",
       "      <td>{'$date': 1609687534000}</td>\n",
       "      <td>{'$date': 1609687534000}</td>\n",
       "      <td>{'$date': 1609687534000}</td>\n",
       "      <td>{'$date': 1609687539000}</td>\n",
       "      <td>{'$date': 1609687534000}</td>\n",
       "      <td>5.0</td>\n",
       "      <td>{'$date': 1609632000000}</td>\n",
       "      <td>4.0</td>\n",
       "      <td>[{'barcode': '4011', 'description': 'ITEM NOT ...</td>\n",
       "      <td>FINISHED</td>\n",
       "      <td>28.0</td>\n",
       "      <td>5ff1e1eacfcf6c399c274ae6</td>\n",
       "    </tr>\n",
       "    <tr>\n",
       "      <th>4</th>\n",
       "      <td>{'$oid': '5ff1e1d20a7214ada1000561'}</td>\n",
       "      <td>5.0</td>\n",
       "      <td>All-receipts receipt bonus</td>\n",
       "      <td>{'$date': 1609687506000}</td>\n",
       "      <td>{'$date': 1609687506000}</td>\n",
       "      <td>{'$date': 1609687511000}</td>\n",
       "      <td>{'$date': 1609687511000}</td>\n",
       "      <td>{'$date': 1609687506000}</td>\n",
       "      <td>5.0</td>\n",
       "      <td>{'$date': 1609601106000}</td>\n",
       "      <td>2.0</td>\n",
       "      <td>[{'barcode': '4011', 'description': 'ITEM NOT ...</td>\n",
       "      <td>FINISHED</td>\n",
       "      <td>1.0</td>\n",
       "      <td>5ff1e194b6a9d73a3a9f1052</td>\n",
       "    </tr>\n",
       "  </tbody>\n",
       "</table>\n",
       "</div>"
      ],
      "text/plain": [
       "                                    _id  bonusPointsEarned  \\\n",
       "0  {'$oid': '5ff1e1eb0a720f0523000575'}              500.0   \n",
       "1  {'$oid': '5ff1e1bb0a720f052300056b'}              150.0   \n",
       "2  {'$oid': '5ff1e1f10a720f052300057a'}                5.0   \n",
       "3  {'$oid': '5ff1e1ee0a7214ada100056f'}                5.0   \n",
       "4  {'$oid': '5ff1e1d20a7214ada1000561'}                5.0   \n",
       "\n",
       "                             bonusPointsEarnedReason  \\\n",
       "0  Receipt number 2 completed, bonus point schedu...   \n",
       "1  Receipt number 5 completed, bonus point schedu...   \n",
       "2                         All-receipts receipt bonus   \n",
       "3                         All-receipts receipt bonus   \n",
       "4                         All-receipts receipt bonus   \n",
       "\n",
       "                 createDate               dateScanned  \\\n",
       "0  {'$date': 1609687531000}  {'$date': 1609687531000}   \n",
       "1  {'$date': 1609687483000}  {'$date': 1609687483000}   \n",
       "2  {'$date': 1609687537000}  {'$date': 1609687537000}   \n",
       "3  {'$date': 1609687534000}  {'$date': 1609687534000}   \n",
       "4  {'$date': 1609687506000}  {'$date': 1609687506000}   \n",
       "\n",
       "               finishedDate                modifyDate  \\\n",
       "0  {'$date': 1609687531000}  {'$date': 1609687536000}   \n",
       "1  {'$date': 1609687483000}  {'$date': 1609687488000}   \n",
       "2                       NaN  {'$date': 1609687542000}   \n",
       "3  {'$date': 1609687534000}  {'$date': 1609687539000}   \n",
       "4  {'$date': 1609687511000}  {'$date': 1609687511000}   \n",
       "\n",
       "          pointsAwardedDate  pointsEarned              purchaseDate  \\\n",
       "0  {'$date': 1609687531000}         500.0  {'$date': 1609632000000}   \n",
       "1  {'$date': 1609687483000}         150.0  {'$date': 1609601083000}   \n",
       "2                       NaN           5.0  {'$date': 1609632000000}   \n",
       "3  {'$date': 1609687534000}           5.0  {'$date': 1609632000000}   \n",
       "4  {'$date': 1609687506000}           5.0  {'$date': 1609601106000}   \n",
       "\n",
       "   purchasedItemCount                             rewardsReceiptItemList  \\\n",
       "0                 5.0  [{'barcode': '4011', 'description': 'ITEM NOT ...   \n",
       "1                 2.0  [{'barcode': '4011', 'description': 'ITEM NOT ...   \n",
       "2                 1.0  [{'needsFetchReview': False, 'partnerItemId': ...   \n",
       "3                 4.0  [{'barcode': '4011', 'description': 'ITEM NOT ...   \n",
       "4                 2.0  [{'barcode': '4011', 'description': 'ITEM NOT ...   \n",
       "\n",
       "  rewardsReceiptStatus  totalSpent                    userId  \n",
       "0             FINISHED        26.0  5ff1e1eacfcf6c399c274ae6  \n",
       "1             FINISHED        11.0  5ff1e194b6a9d73a3a9f1052  \n",
       "2             REJECTED        10.0  5ff1e1f1cfcf6c399c274b0b  \n",
       "3             FINISHED        28.0  5ff1e1eacfcf6c399c274ae6  \n",
       "4             FINISHED         1.0  5ff1e194b6a9d73a3a9f1052  "
      ]
     },
     "execution_count": 7,
     "metadata": {},
     "output_type": "execute_result"
    }
   ],
   "source": [
    "#Explore reciepts dataset on  a high level\n",
    "reciepts.head(5)"
   ]
  },
  {
   "cell_type": "code",
   "execution_count": 8,
   "metadata": {},
   "outputs": [
    {
     "data": {
      "text/plain": [
       "_id                         object\n",
       "bonusPointsEarned          float64\n",
       "bonusPointsEarnedReason     object\n",
       "createDate                  object\n",
       "dateScanned                 object\n",
       "finishedDate                object\n",
       "modifyDate                  object\n",
       "pointsAwardedDate           object\n",
       "pointsEarned               float64\n",
       "purchaseDate                object\n",
       "purchasedItemCount         float64\n",
       "rewardsReceiptItemList      object\n",
       "rewardsReceiptStatus        object\n",
       "totalSpent                 float64\n",
       "userId                      object\n",
       "dtype: object"
      ]
     },
     "execution_count": 8,
     "metadata": {},
     "output_type": "execute_result"
    }
   ],
   "source": [
    "reciepts.dtypes  "
   ]
  },
  {
   "cell_type": "code",
   "execution_count": 9,
   "metadata": {},
   "outputs": [
    {
     "data": {
      "text/plain": [
       "(1119, 15)"
      ]
     },
     "execution_count": 9,
     "metadata": {},
     "output_type": "execute_result"
    }
   ],
   "source": [
    "reciepts.shape"
   ]
  },
  {
   "cell_type": "code",
   "execution_count": 10,
   "metadata": {},
   "outputs": [
    {
     "data": {
      "text/plain": [
       "array(['FINISHED', 'REJECTED', 'FLAGGED', 'SUBMITTED', 'PENDING'],\n",
       "      dtype=object)"
      ]
     },
     "execution_count": 10,
     "metadata": {},
     "output_type": "execute_result"
    }
   ],
   "source": [
    "reciepts.rewardsReceiptStatus.unique()"
   ]
  },
  {
   "cell_type": "markdown",
   "metadata": {},
   "source": [
    "#### Observations\n",
    "\n",
    "1. Some queries in Part 2 are based on `Status = 'Accepted'`. There is no such data in the dataset. Might be an data anomaly.\n",
    "2. Multiple date columns. Based on what they represent and business cases some can may be dropped to reduce redundancy. <br>\n",
    "e.g. createDate: The date that the event was created <br>\n",
    "     purchaseDate: the date of the purchase<br>\n",
    "In real world, most likely these should be the same date.\n",
    "\n"
   ]
  },
  {
   "cell_type": "code",
   "execution_count": 11,
   "metadata": {},
   "outputs": [
    {
     "data": {
      "text/plain": [
       "All-receipts receipt bonus                                                             183\n",
       "Receipt number 1 completed, bonus point schedule DEFAULT (5cefdcacf3693e0b50e83a36)    119\n",
       "COMPLETE_NONPARTNER_RECEIPT                                                             71\n",
       "COMPLETE_PARTNER_RECEIPT                                                                39\n",
       "Receipt number 3 completed, bonus point schedule DEFAULT (5cefdcacf3693e0b50e83a36)     31\n",
       "Receipt number 2 completed, bonus point schedule DEFAULT (5cefdcacf3693e0b50e83a36)     30\n",
       "Receipt number 5 completed, bonus point schedule DEFAULT (5cefdcacf3693e0b50e83a36)     27\n",
       "Receipt number 4 completed, bonus point schedule DEFAULT (5cefdcacf3693e0b50e83a36)     26\n",
       "Receipt number 6 completed, bonus point schedule DEFAULT (5cefdcacf3693e0b50e83a36)     18\n",
       "Name: bonusPointsEarnedReason, dtype: int64"
      ]
     },
     "execution_count": 11,
     "metadata": {},
     "output_type": "execute_result"
    }
   ],
   "source": [
    "reciepts.bonusPointsEarnedReason.value_counts()"
   ]
  },
  {
   "cell_type": "code",
   "execution_count": 12,
   "metadata": {},
   "outputs": [
    {
     "data": {
      "text/html": [
       "<div>\n",
       "<style scoped>\n",
       "    .dataframe tbody tr th:only-of-type {\n",
       "        vertical-align: middle;\n",
       "    }\n",
       "\n",
       "    .dataframe tbody tr th {\n",
       "        vertical-align: top;\n",
       "    }\n",
       "\n",
       "    .dataframe thead th {\n",
       "        text-align: right;\n",
       "    }\n",
       "</style>\n",
       "<table border=\"1\" class=\"dataframe\">\n",
       "  <thead>\n",
       "    <tr style=\"text-align: right;\">\n",
       "      <th></th>\n",
       "      <th>bonusPointsEarnedReason</th>\n",
       "      <th>bonusPointsEarned</th>\n",
       "      <th>pointsEarned</th>\n",
       "    </tr>\n",
       "  </thead>\n",
       "  <tbody>\n",
       "    <tr>\n",
       "      <th>0</th>\n",
       "      <td>Receipt number 2 completed, bonus point schedu...</td>\n",
       "      <td>500.0</td>\n",
       "      <td>500.0</td>\n",
       "    </tr>\n",
       "    <tr>\n",
       "      <th>1</th>\n",
       "      <td>Receipt number 5 completed, bonus point schedu...</td>\n",
       "      <td>150.0</td>\n",
       "      <td>150.0</td>\n",
       "    </tr>\n",
       "    <tr>\n",
       "      <th>2</th>\n",
       "      <td>All-receipts receipt bonus</td>\n",
       "      <td>5.0</td>\n",
       "      <td>5.0</td>\n",
       "    </tr>\n",
       "    <tr>\n",
       "      <th>5</th>\n",
       "      <td>Receipt number 1 completed, bonus point schedu...</td>\n",
       "      <td>750.0</td>\n",
       "      <td>750.0</td>\n",
       "    </tr>\n",
       "    <tr>\n",
       "      <th>9</th>\n",
       "      <td>Receipt number 3 completed, bonus point schedu...</td>\n",
       "      <td>250.0</td>\n",
       "      <td>250.0</td>\n",
       "    </tr>\n",
       "    <tr>\n",
       "      <th>10</th>\n",
       "      <td>Receipt number 6 completed, bonus point schedu...</td>\n",
       "      <td>100.0</td>\n",
       "      <td>100.0</td>\n",
       "    </tr>\n",
       "    <tr>\n",
       "      <th>14</th>\n",
       "      <td>Receipt number 4 completed, bonus point schedu...</td>\n",
       "      <td>300.0</td>\n",
       "      <td>300.0</td>\n",
       "    </tr>\n",
       "    <tr>\n",
       "      <th>47</th>\n",
       "      <td>COMPLETE_NONPARTNER_RECEIPT</td>\n",
       "      <td>25.0</td>\n",
       "      <td>25.0</td>\n",
       "    </tr>\n",
       "  </tbody>\n",
       "</table>\n",
       "</div>"
      ],
      "text/plain": [
       "                              bonusPointsEarnedReason  bonusPointsEarned  \\\n",
       "0   Receipt number 2 completed, bonus point schedu...              500.0   \n",
       "1   Receipt number 5 completed, bonus point schedu...              150.0   \n",
       "2                          All-receipts receipt bonus                5.0   \n",
       "5   Receipt number 1 completed, bonus point schedu...              750.0   \n",
       "9   Receipt number 3 completed, bonus point schedu...              250.0   \n",
       "10  Receipt number 6 completed, bonus point schedu...              100.0   \n",
       "14  Receipt number 4 completed, bonus point schedu...              300.0   \n",
       "47                        COMPLETE_NONPARTNER_RECEIPT               25.0   \n",
       "\n",
       "    pointsEarned  \n",
       "0          500.0  \n",
       "1          150.0  \n",
       "2            5.0  \n",
       "5          750.0  \n",
       "9          250.0  \n",
       "10         100.0  \n",
       "14         300.0  \n",
       "47          25.0  "
      ]
     },
     "execution_count": 12,
     "metadata": {},
     "output_type": "execute_result"
    }
   ],
   "source": [
    "df_temp =reciepts[['bonusPointsEarnedReason','bonusPointsEarned','pointsEarned']]\n",
    "df_temp = df_temp.drop_duplicates()\n",
    "df_temp[df_temp['bonusPointsEarned'] == df_temp['pointsEarned']]"
   ]
  },
  {
   "cell_type": "code",
   "execution_count": 13,
   "metadata": {},
   "outputs": [
    {
     "data": {
      "text/html": [
       "<div>\n",
       "<style scoped>\n",
       "    .dataframe tbody tr th:only-of-type {\n",
       "        vertical-align: middle;\n",
       "    }\n",
       "\n",
       "    .dataframe tbody tr th {\n",
       "        vertical-align: top;\n",
       "    }\n",
       "\n",
       "    .dataframe thead th {\n",
       "        text-align: right;\n",
       "    }\n",
       "</style>\n",
       "<table border=\"1\" class=\"dataframe\">\n",
       "  <thead>\n",
       "    <tr style=\"text-align: right;\">\n",
       "      <th></th>\n",
       "      <th>bonusPointsEarnedReason</th>\n",
       "      <th>bonusPointsEarned</th>\n",
       "      <th>pointsEarned</th>\n",
       "    </tr>\n",
       "  </thead>\n",
       "  <tbody>\n",
       "    <tr>\n",
       "      <th>12</th>\n",
       "      <td>Receipt number 5 completed, bonus point schedu...</td>\n",
       "      <td>150.0</td>\n",
       "      <td>8850.0</td>\n",
       "    </tr>\n",
       "    <tr>\n",
       "      <th>15</th>\n",
       "      <td>NaN</td>\n",
       "      <td>NaN</td>\n",
       "      <td>NaN</td>\n",
       "    </tr>\n",
       "    <tr>\n",
       "      <th>20</th>\n",
       "      <td>Receipt number 4 completed, bonus point schedu...</td>\n",
       "      <td>300.0</td>\n",
       "      <td>389.2</td>\n",
       "    </tr>\n",
       "    <tr>\n",
       "      <th>23</th>\n",
       "      <td>COMPLETE_PARTNER_RECEIPT</td>\n",
       "      <td>40.0</td>\n",
       "      <td>185.0</td>\n",
       "    </tr>\n",
       "    <tr>\n",
       "      <th>27</th>\n",
       "      <td>COMPLETE_NONPARTNER_RECEIPT</td>\n",
       "      <td>25.0</td>\n",
       "      <td>35.0</td>\n",
       "    </tr>\n",
       "    <tr>\n",
       "      <th>...</th>\n",
       "      <td>...</td>\n",
       "      <td>...</td>\n",
       "      <td>...</td>\n",
       "    </tr>\n",
       "    <tr>\n",
       "      <th>643</th>\n",
       "      <td>NaN</td>\n",
       "      <td>NaN</td>\n",
       "      <td>209.8</td>\n",
       "    </tr>\n",
       "    <tr>\n",
       "      <th>664</th>\n",
       "      <td>NaN</td>\n",
       "      <td>NaN</td>\n",
       "      <td>210.0</td>\n",
       "    </tr>\n",
       "    <tr>\n",
       "      <th>667</th>\n",
       "      <td>NaN</td>\n",
       "      <td>NaN</td>\n",
       "      <td>209.5</td>\n",
       "    </tr>\n",
       "    <tr>\n",
       "      <th>917</th>\n",
       "      <td>Receipt number 1 completed, bonus point schedu...</td>\n",
       "      <td>750.0</td>\n",
       "      <td>789.2</td>\n",
       "    </tr>\n",
       "    <tr>\n",
       "      <th>956</th>\n",
       "      <td>Receipt number 2 completed, bonus point schedu...</td>\n",
       "      <td>500.0</td>\n",
       "      <td>3500.0</td>\n",
       "    </tr>\n",
       "  </tbody>\n",
       "</table>\n",
       "<p>128 rows × 3 columns</p>\n",
       "</div>"
      ],
      "text/plain": [
       "                               bonusPointsEarnedReason  bonusPointsEarned  \\\n",
       "12   Receipt number 5 completed, bonus point schedu...              150.0   \n",
       "15                                                 NaN                NaN   \n",
       "20   Receipt number 4 completed, bonus point schedu...              300.0   \n",
       "23                            COMPLETE_PARTNER_RECEIPT               40.0   \n",
       "27                         COMPLETE_NONPARTNER_RECEIPT               25.0   \n",
       "..                                                 ...                ...   \n",
       "643                                                NaN                NaN   \n",
       "664                                                NaN                NaN   \n",
       "667                                                NaN                NaN   \n",
       "917  Receipt number 1 completed, bonus point schedu...              750.0   \n",
       "956  Receipt number 2 completed, bonus point schedu...              500.0   \n",
       "\n",
       "     pointsEarned  \n",
       "12         8850.0  \n",
       "15            NaN  \n",
       "20          389.2  \n",
       "23          185.0  \n",
       "27           35.0  \n",
       "..            ...  \n",
       "643         209.8  \n",
       "664         210.0  \n",
       "667         209.5  \n",
       "917         789.2  \n",
       "956        3500.0  \n",
       "\n",
       "[128 rows x 3 columns]"
      ]
     },
     "execution_count": 13,
     "metadata": {},
     "output_type": "execute_result"
    }
   ],
   "source": [
    "df_temp[df_temp['bonusPointsEarned'] != df_temp['pointsEarned']]"
   ]
  },
  {
   "cell_type": "markdown",
   "metadata": {},
   "source": [
    "##### Comments: \n",
    "\n",
    "A clear understanding of how the data is saved to `bonusPointsEarned` and `pointsEarned` cannot be gained. Sometimes the value is same and sometimes it is not. There could possibly be a better way to store this data."
   ]
  },
  {
   "cell_type": "code",
   "execution_count": 33,
   "metadata": {},
   "outputs": [
    {
     "data": {
      "text/plain": [
       "0       [{'barcode': '4011', 'description': 'ITEM NOT ...\n",
       "1       [{'barcode': '4011', 'description': 'ITEM NOT ...\n",
       "2       [{'needsFetchReview': False, 'partnerItemId': ...\n",
       "3       [{'barcode': '4011', 'description': 'ITEM NOT ...\n",
       "4       [{'barcode': '4011', 'description': 'ITEM NOT ...\n",
       "                              ...                        \n",
       "1114    [{'barcode': 'B076FJ92M4', 'description': 'mue...\n",
       "1115                                                  NaN\n",
       "1116                                                  NaN\n",
       "1117    [{'barcode': 'B076FJ92M4', 'description': 'mue...\n",
       "1118                                                  NaN\n",
       "Name: rewardsReceiptItemList, Length: 1119, dtype: object"
      ]
     },
     "execution_count": 33,
     "metadata": {},
     "output_type": "execute_result"
    }
   ],
   "source": [
    "reciepts.rewardsReceiptItemList"
   ]
  },
  {
   "cell_type": "markdown",
   "metadata": {},
   "source": [
    "##### Comments :\n",
    "\n",
    "reciepts violates 1NF due to presence of nested data/array. Hence it is not a relational model.\n",
    "Relation Decomposition is necessary to convert it into a relational model."
   ]
  },
  {
   "cell_type": "markdown",
   "metadata": {},
   "source": [
    "##### Test data integrity of data"
   ]
  },
  {
   "cell_type": "code",
   "execution_count": 14,
   "metadata": {},
   "outputs": [],
   "source": [
    "#udf for aggregating total finalPrice of each item in reciept item list of a given reciept\n",
    "\n",
    "def agg_finalPrice_receipt_itms(row):\n",
    "    columns = ['barcode','description','finalPrice','quantityPurchased']\n",
    "    df_rct_itms = pd.DataFrame(columns = columns)\n",
    "    data = []\n",
    "\n",
    "    for dic in row['rewardsReceiptItemList']:\n",
    "#             for dic in item:\n",
    "                values =[dic.get('barcode')\n",
    "                        ,dic.get('description')\n",
    "                        ,float(dic.get('finalPrice'))\n",
    "                        ,dic.get('quantityPurchased')]\n",
    "                zipped = zip(columns, values)\n",
    "                a_dictionary = dict(zipped)\n",
    "                data.append(a_dictionary)\n",
    "\n",
    "    df_rct_itms = df_rct_itms.append(data, True)\n",
    "    return [row.totalSpent,round(df_rct_itms.finalPrice.sum(),2)]"
   ]
  },
  {
   "cell_type": "code",
   "execution_count": 15,
   "metadata": {},
   "outputs": [
    {
     "data": {
      "text/plain": [
       "423    [1183.1, 1183.1]\n",
       "dtype: object"
      ]
     },
     "execution_count": 15,
     "metadata": {},
     "output_type": "execute_result"
    },
    {
     "data": {
      "text/plain": [
       "650    [28.0, 28.0]\n",
       "dtype: object"
      ]
     },
     "execution_count": 15,
     "metadata": {},
     "output_type": "execute_result"
    }
   ],
   "source": [
    "reciepts.iloc[[423]].apply(agg_finalPrice_receipt_itms, axis=1)\n",
    "reciepts.iloc[[650]].apply(agg_finalPrice_receipt_itms, axis=1)"
   ]
  },
  {
   "cell_type": "markdown",
   "metadata": {},
   "source": [
    "##### Noteworthy:\n",
    "This code could be further enhanced to make a mapping of reciept index, totalSpent, sum(finalPriceofRctItems) on entire dataset"
   ]
  },
  {
   "cell_type": "code",
   "execution_count": 16,
   "metadata": {},
   "outputs": [
    {
     "ename": "TypeError",
     "evalue": "float() argument must be a string or a number, not 'NoneType'",
     "output_type": "error",
     "traceback": [
      "\u001b[0;31m---------------------------------------------------------------------------\u001b[0m",
      "\u001b[0;31mTypeError\u001b[0m                                 Traceback (most recent call last)",
      "\u001b[0;32m<ipython-input-16-ac60f016f2db>\u001b[0m in \u001b[0;36m<module>\u001b[0;34m\u001b[0m\n\u001b[0;32m----> 1\u001b[0;31m \u001b[0mreciepts\u001b[0m\u001b[0;34m.\u001b[0m\u001b[0mapply\u001b[0m\u001b[0;34m(\u001b[0m\u001b[0magg_finalPrice_receipt_itms\u001b[0m\u001b[0;34m,\u001b[0m \u001b[0maxis\u001b[0m\u001b[0;34m=\u001b[0m\u001b[0;36m1\u001b[0m\u001b[0;34m)\u001b[0m\u001b[0;34m\u001b[0m\u001b[0;34m\u001b[0m\u001b[0m\n\u001b[0m",
      "\u001b[0;32m~/opt/anaconda3/lib/python3.7/site-packages/pandas/core/frame.py\u001b[0m in \u001b[0;36mapply\u001b[0;34m(self, func, axis, raw, result_type, args, **kwds)\u001b[0m\n\u001b[1;32m   6876\u001b[0m             \u001b[0mkwds\u001b[0m\u001b[0;34m=\u001b[0m\u001b[0mkwds\u001b[0m\u001b[0;34m,\u001b[0m\u001b[0;34m\u001b[0m\u001b[0;34m\u001b[0m\u001b[0m\n\u001b[1;32m   6877\u001b[0m         )\n\u001b[0;32m-> 6878\u001b[0;31m         \u001b[0;32mreturn\u001b[0m \u001b[0mop\u001b[0m\u001b[0;34m.\u001b[0m\u001b[0mget_result\u001b[0m\u001b[0;34m(\u001b[0m\u001b[0;34m)\u001b[0m\u001b[0;34m\u001b[0m\u001b[0;34m\u001b[0m\u001b[0m\n\u001b[0m\u001b[1;32m   6879\u001b[0m \u001b[0;34m\u001b[0m\u001b[0m\n\u001b[1;32m   6880\u001b[0m     \u001b[0;32mdef\u001b[0m \u001b[0mapplymap\u001b[0m\u001b[0;34m(\u001b[0m\u001b[0mself\u001b[0m\u001b[0;34m,\u001b[0m \u001b[0mfunc\u001b[0m\u001b[0;34m)\u001b[0m \u001b[0;34m->\u001b[0m \u001b[0;34m\"DataFrame\"\u001b[0m\u001b[0;34m:\u001b[0m\u001b[0;34m\u001b[0m\u001b[0;34m\u001b[0m\u001b[0m\n",
      "\u001b[0;32m~/opt/anaconda3/lib/python3.7/site-packages/pandas/core/apply.py\u001b[0m in \u001b[0;36mget_result\u001b[0;34m(self)\u001b[0m\n\u001b[1;32m    184\u001b[0m             \u001b[0;32mreturn\u001b[0m \u001b[0mself\u001b[0m\u001b[0;34m.\u001b[0m\u001b[0mapply_raw\u001b[0m\u001b[0;34m(\u001b[0m\u001b[0;34m)\u001b[0m\u001b[0;34m\u001b[0m\u001b[0;34m\u001b[0m\u001b[0m\n\u001b[1;32m    185\u001b[0m \u001b[0;34m\u001b[0m\u001b[0m\n\u001b[0;32m--> 186\u001b[0;31m         \u001b[0;32mreturn\u001b[0m \u001b[0mself\u001b[0m\u001b[0;34m.\u001b[0m\u001b[0mapply_standard\u001b[0m\u001b[0;34m(\u001b[0m\u001b[0;34m)\u001b[0m\u001b[0;34m\u001b[0m\u001b[0;34m\u001b[0m\u001b[0m\n\u001b[0m\u001b[1;32m    187\u001b[0m \u001b[0;34m\u001b[0m\u001b[0m\n\u001b[1;32m    188\u001b[0m     \u001b[0;32mdef\u001b[0m \u001b[0mapply_empty_result\u001b[0m\u001b[0;34m(\u001b[0m\u001b[0mself\u001b[0m\u001b[0;34m)\u001b[0m\u001b[0;34m:\u001b[0m\u001b[0;34m\u001b[0m\u001b[0;34m\u001b[0m\u001b[0m\n",
      "\u001b[0;32m~/opt/anaconda3/lib/python3.7/site-packages/pandas/core/apply.py\u001b[0m in \u001b[0;36mapply_standard\u001b[0;34m(self)\u001b[0m\n\u001b[1;32m    294\u001b[0m             \u001b[0;32mtry\u001b[0m\u001b[0;34m:\u001b[0m\u001b[0;34m\u001b[0m\u001b[0;34m\u001b[0m\u001b[0m\n\u001b[1;32m    295\u001b[0m                 result = libreduction.compute_reduction(\n\u001b[0;32m--> 296\u001b[0;31m                     \u001b[0mvalues\u001b[0m\u001b[0;34m,\u001b[0m \u001b[0mself\u001b[0m\u001b[0;34m.\u001b[0m\u001b[0mf\u001b[0m\u001b[0;34m,\u001b[0m \u001b[0maxis\u001b[0m\u001b[0;34m=\u001b[0m\u001b[0mself\u001b[0m\u001b[0;34m.\u001b[0m\u001b[0maxis\u001b[0m\u001b[0;34m,\u001b[0m \u001b[0mdummy\u001b[0m\u001b[0;34m=\u001b[0m\u001b[0mdummy\u001b[0m\u001b[0;34m,\u001b[0m \u001b[0mlabels\u001b[0m\u001b[0;34m=\u001b[0m\u001b[0mlabels\u001b[0m\u001b[0;34m\u001b[0m\u001b[0;34m\u001b[0m\u001b[0m\n\u001b[0m\u001b[1;32m    297\u001b[0m                 )\n\u001b[1;32m    298\u001b[0m             \u001b[0;32mexcept\u001b[0m \u001b[0mValueError\u001b[0m \u001b[0;32mas\u001b[0m \u001b[0merr\u001b[0m\u001b[0;34m:\u001b[0m\u001b[0;34m\u001b[0m\u001b[0;34m\u001b[0m\u001b[0m\n",
      "\u001b[0;32mpandas/_libs/reduction.pyx\u001b[0m in \u001b[0;36mpandas._libs.reduction.compute_reduction\u001b[0;34m()\u001b[0m\n",
      "\u001b[0;32mpandas/_libs/reduction.pyx\u001b[0m in \u001b[0;36mpandas._libs.reduction.Reducer.get_result\u001b[0;34m()\u001b[0m\n",
      "\u001b[0;32m<ipython-input-14-2396151b96ef>\u001b[0m in \u001b[0;36magg_finalPrice_receipt_itms\u001b[0;34m(row)\u001b[0m\n\u001b[1;32m     10\u001b[0m                 values =[dic.get('barcode')\n\u001b[1;32m     11\u001b[0m                         \u001b[0;34m,\u001b[0m\u001b[0mdic\u001b[0m\u001b[0;34m.\u001b[0m\u001b[0mget\u001b[0m\u001b[0;34m(\u001b[0m\u001b[0;34m'description'\u001b[0m\u001b[0;34m)\u001b[0m\u001b[0;34m\u001b[0m\u001b[0;34m\u001b[0m\u001b[0m\n\u001b[0;32m---> 12\u001b[0;31m                         \u001b[0;34m,\u001b[0m\u001b[0mfloat\u001b[0m\u001b[0;34m(\u001b[0m\u001b[0mdic\u001b[0m\u001b[0;34m.\u001b[0m\u001b[0mget\u001b[0m\u001b[0;34m(\u001b[0m\u001b[0;34m'finalPrice'\u001b[0m\u001b[0;34m)\u001b[0m\u001b[0;34m)\u001b[0m\u001b[0;34m\u001b[0m\u001b[0;34m\u001b[0m\u001b[0m\n\u001b[0m\u001b[1;32m     13\u001b[0m                         ,dic.get('quantityPurchased')]\n\u001b[1;32m     14\u001b[0m                 \u001b[0mzipped\u001b[0m \u001b[0;34m=\u001b[0m \u001b[0mzip\u001b[0m\u001b[0;34m(\u001b[0m\u001b[0mcolumns\u001b[0m\u001b[0;34m,\u001b[0m \u001b[0mvalues\u001b[0m\u001b[0;34m)\u001b[0m\u001b[0;34m\u001b[0m\u001b[0;34m\u001b[0m\u001b[0m\n",
      "\u001b[0;31mTypeError\u001b[0m: float() argument must be a string or a number, not 'NoneType'"
     ]
    }
   ],
   "source": [
    "reciepts.apply(agg_finalPrice_receipt_itms, axis=1)"
   ]
  },
  {
   "cell_type": "code",
   "execution_count": 24,
   "metadata": {},
   "outputs": [
    {
     "name": "stdout",
     "output_type": "stream",
     "text": [
      "['barcode', 'brandCode', 'description', 'discountedItemPrice', 'finalPrice', 'itemPrice', 'metabriteCampaignId', 'originalReceiptItemText', 'partnerItemId', 'pointsEarned', 'pointsPayerId', 'quantityPurchased', 'rewardsGroup', 'rewardsProductPartnerId']\n",
      "['description', 'discountedItemPrice', 'finalPrice', 'itemPrice', 'originalReceiptItemText', 'partnerItemId', 'quantityPurchased']\n",
      "['description', 'discountedItemPrice', 'finalPrice', 'itemPrice', 'originalReceiptItemText', 'partnerItemId', 'quantityPurchased']\n",
      "['barcode', 'brandCode', 'description', 'discountedItemPrice', 'finalPrice', 'itemPrice', 'metabriteCampaignId', 'originalReceiptItemText', 'partnerItemId', 'pointsNotAwardedReason', 'pointsPayerId', 'quantityPurchased', 'rewardsGroup', 'rewardsProductPartnerId']\n",
      "['barcode', 'brandCode', 'description', 'discountedItemPrice', 'finalPrice', 'itemPrice', 'metabriteCampaignId', 'originalReceiptItemText', 'partnerItemId', 'pointsNotAwardedReason', 'pointsPayerId', 'quantityPurchased', 'rewardsGroup', 'rewardsProductPartnerId']\n",
      "['description', 'discountedItemPrice', 'finalPrice', 'itemPrice', 'originalReceiptItemText', 'partnerItemId', 'quantityPurchased']\n",
      "['description', 'discountedItemPrice', 'finalPrice', 'itemPrice', 'originalReceiptItemText', 'partnerItemId', 'quantityPurchased']\n",
      "['description', 'discountedItemPrice', 'finalPrice', 'itemPrice', 'originalReceiptItemText', 'partnerItemId', 'quantityPurchased']\n",
      "['description', 'discountedItemPrice', 'finalPrice', 'itemPrice', 'originalReceiptItemText', 'partnerItemId', 'quantityPurchased']\n",
      "['description', 'discountedItemPrice', 'finalPrice', 'itemPrice', 'originalReceiptItemText', 'partnerItemId', 'quantityPurchased']\n",
      "['description', 'discountedItemPrice', 'finalPrice', 'itemPrice', 'originalReceiptItemText', 'partnerItemId', 'quantityPurchased']\n",
      "['description', 'discountedItemPrice', 'finalPrice', 'itemPrice', 'originalReceiptItemText', 'partnerItemId', 'quantityPurchased']\n",
      "['description', 'discountedItemPrice', 'finalPrice', 'itemPrice', 'originalReceiptItemText', 'partnerItemId', 'quantityPurchased']\n",
      "['description', 'discountedItemPrice', 'finalPrice', 'itemPrice', 'originalReceiptItemText', 'partnerItemId', 'quantityPurchased']\n",
      "['description', 'discountedItemPrice', 'finalPrice', 'itemPrice', 'originalReceiptItemText', 'partnerItemId', 'quantityPurchased']\n",
      "['barcode', 'brandCode', 'competitiveProduct', 'description', 'discountedItemPrice', 'finalPrice', 'itemPrice', 'metabriteCampaignId', 'originalReceiptItemText', 'partnerItemId', 'pointsEarned', 'pointsPayerId', 'quantityPurchased', 'rewardsProductPartnerId']\n",
      "['description', 'discountedItemPrice', 'finalPrice', 'itemPrice', 'originalReceiptItemText', 'partnerItemId', 'quantityPurchased']\n",
      "['description', 'discountedItemPrice', 'finalPrice', 'itemPrice', 'originalReceiptItemText', 'partnerItemId', 'quantityPurchased']\n",
      "['description', 'discountedItemPrice', 'finalPrice', 'itemPrice', 'originalReceiptItemText', 'partnerItemId', 'quantityPurchased']\n",
      "['barcode', 'brandCode', 'competitiveProduct', 'competitorRewardsGroup', 'description', 'discountedItemPrice', 'finalPrice', 'itemPrice', 'originalReceiptItemText', 'partnerItemId', 'quantityPurchased', 'rewardsGroup', 'rewardsProductPartnerId']\n",
      "['brandCode', 'competitiveProduct', 'competitorRewardsGroup', 'description', 'discountedItemPrice', 'finalPrice', 'itemPrice', 'originalReceiptItemText', 'partnerItemId', 'quantityPurchased', 'rewardsProductPartnerId']\n",
      "['description', 'discountedItemPrice', 'finalPrice', 'itemPrice', 'originalReceiptItemText', 'partnerItemId', 'quantityPurchased']\n",
      "['description', 'discountedItemPrice', 'finalPrice', 'itemPrice', 'originalReceiptItemText', 'partnerItemId', 'quantityPurchased']\n",
      "['description', 'discountedItemPrice', 'finalPrice', 'itemPrice', 'originalReceiptItemText', 'partnerItemId', 'quantityPurchased']\n",
      "['description', 'discountedItemPrice', 'finalPrice', 'itemPrice', 'originalReceiptItemText', 'partnerItemId', 'quantityPurchased']\n",
      "['brandCode', 'description', 'discountedItemPrice', 'finalPrice', 'itemPrice', 'originalReceiptItemText', 'partnerItemId', 'quantityPurchased']\n",
      "['brandCode', 'description', 'discountedItemPrice', 'finalPrice', 'itemPrice', 'originalReceiptItemText', 'partnerItemId', 'quantityPurchased']\n",
      "['brandCode', 'description', 'discountedItemPrice', 'finalPrice', 'itemPrice', 'originalReceiptItemText', 'partnerItemId', 'quantityPurchased']\n",
      "['description', 'discountedItemPrice', 'finalPrice', 'itemPrice', 'originalReceiptItemText', 'partnerItemId', 'quantityPurchased']\n",
      "['description', 'discountedItemPrice', 'finalPrice', 'itemPrice', 'originalReceiptItemText', 'partnerItemId', 'quantityPurchased']\n",
      "['description', 'discountedItemPrice', 'finalPrice', 'itemPrice', 'originalReceiptItemText', 'partnerItemId', 'quantityPurchased']\n",
      "['barcode', 'brandCode', 'description', 'discountedItemPrice', 'finalPrice', 'itemPrice', 'metabriteCampaignId', 'originalReceiptItemText', 'partnerItemId', 'quantityPurchased', 'rewardsGroup', 'rewardsProductPartnerId']\n",
      "['description', 'discountedItemPrice', 'finalPrice', 'itemPrice', 'originalReceiptItemText', 'partnerItemId', 'quantityPurchased']\n",
      "['brandCode', 'competitorRewardsGroup', 'description', 'discountedItemPrice', 'finalPrice', 'itemPrice', 'originalReceiptItemText', 'partnerItemId', 'quantityPurchased']\n",
      "['brandCode', 'competitorRewardsGroup', 'description', 'discountedItemPrice', 'finalPrice', 'itemPrice', 'originalReceiptItemText', 'partnerItemId', 'quantityPurchased']\n",
      "['description', 'discountedItemPrice', 'finalPrice', 'itemPrice', 'originalReceiptItemText', 'partnerItemId', 'quantityPurchased']\n",
      "['description', 'discountedItemPrice', 'finalPrice', 'itemPrice', 'originalReceiptItemText', 'partnerItemId', 'quantityPurchased']\n",
      "['description', 'discountedItemPrice', 'finalPrice', 'itemPrice', 'originalReceiptItemText', 'partnerItemId', 'quantityPurchased']\n",
      "['description', 'discountedItemPrice', 'finalPrice', 'itemPrice', 'originalReceiptItemText', 'partnerItemId', 'quantityPurchased']\n",
      "['description', 'discountedItemPrice', 'finalPrice', 'itemPrice', 'originalReceiptItemText', 'partnerItemId', 'quantityPurchased']\n",
      "['barcode', 'brandCode', 'description', 'discountedItemPrice', 'finalPrice', 'itemPrice', 'metabriteCampaignId', 'originalReceiptItemText', 'partnerItemId', 'quantityPurchased', 'rewardsGroup', 'rewardsProductPartnerId']\n",
      "['barcode', 'brandCode', 'competitiveProduct', 'description', 'discountedItemPrice', 'finalPrice', 'itemPrice', 'metabriteCampaignId', 'originalReceiptItemText', 'partnerItemId', 'pointsNotAwardedReason', 'pointsPayerId', 'quantityPurchased', 'rewardsGroup', 'rewardsProductPartnerId']\n",
      "['barcode', 'brandCode', 'competitiveProduct', 'description', 'discountedItemPrice', 'finalPrice', 'itemPrice', 'metabriteCampaignId', 'originalReceiptItemText', 'partnerItemId', 'pointsEarned', 'pointsPayerId', 'quantityPurchased', 'rewardsGroup', 'rewardsProductPartnerId']\n",
      "['description', 'discountedItemPrice', 'finalPrice', 'itemPrice', 'originalReceiptItemText', 'partnerItemId', 'quantityPurchased']\n",
      "['description', 'discountedItemPrice', 'finalPrice', 'itemPrice', 'originalReceiptItemText', 'partnerItemId', 'quantityPurchased']\n",
      "['description', 'discountedItemPrice', 'finalPrice', 'itemPrice', 'originalReceiptItemText', 'partnerItemId', 'quantityPurchased']\n",
      "['description', 'discountedItemPrice', 'finalPrice', 'itemPrice', 'originalReceiptItemText', 'partnerItemId', 'quantityPurchased']\n",
      "['description', 'discountedItemPrice', 'finalPrice', 'itemPrice', 'originalReceiptItemText', 'partnerItemId', 'quantityPurchased']\n",
      "['barcode', 'brandCode', 'competitorRewardsGroup', 'description', 'discountedItemPrice', 'finalPrice', 'itemPrice', 'originalReceiptItemText', 'partnerItemId', 'quantityPurchased', 'rewardsProductPartnerId']\n",
      "['barcode', 'brandCode', 'competitorRewardsGroup', 'description', 'discountedItemPrice', 'finalPrice', 'itemPrice', 'originalReceiptItemText', 'partnerItemId', 'quantityPurchased', 'rewardsProductPartnerId']\n",
      "['description', 'discountedItemPrice', 'finalPrice', 'itemPrice', 'originalReceiptItemText', 'partnerItemId', 'quantityPurchased']\n",
      "['description', 'discountedItemPrice', 'finalPrice', 'itemPrice', 'originalReceiptItemText', 'partnerItemId', 'quantityPurchased']\n",
      "['brandCode', 'competitiveProduct', 'competitorRewardsGroup', 'description', 'discountedItemPrice', 'finalPrice', 'itemPrice', 'originalReceiptItemText', 'partnerItemId', 'quantityPurchased', 'rewardsProductPartnerId']\n",
      "['barcode', 'brandCode', 'description', 'discountedItemPrice', 'finalPrice', 'itemPrice', 'originalReceiptItemText', 'partnerItemId', 'quantityPurchased']\n",
      "['description', 'discountedItemPrice', 'finalPrice', 'itemPrice', 'originalReceiptItemText', 'partnerItemId', 'quantityPurchased']\n",
      "['brandCode', 'description', 'discountedItemPrice', 'finalPrice', 'itemPrice', 'originalReceiptItemText', 'partnerItemId', 'quantityPurchased']\n",
      "['description', 'discountedItemPrice', 'finalPrice', 'itemPrice', 'originalReceiptItemText', 'partnerItemId', 'quantityPurchased']\n",
      "['barcode', 'brandCode', 'description', 'discountedItemPrice', 'finalPrice', 'itemPrice', 'metabriteCampaignId', 'originalReceiptItemText', 'partnerItemId', 'pointsNotAwardedReason', 'pointsPayerId', 'quantityPurchased', 'rewardsGroup', 'rewardsProductPartnerId']\n",
      "['barcode', 'brandCode', 'description', 'discountedItemPrice', 'finalPrice', 'itemPrice', 'metabriteCampaignId', 'originalReceiptItemText', 'partnerItemId', 'pointsNotAwardedReason', 'pointsPayerId', 'quantityPurchased', 'rewardsGroup', 'rewardsProductPartnerId']\n",
      "['barcode', 'brandCode', 'description', 'discountedItemPrice', 'finalPrice', 'itemPrice', 'metabriteCampaignId', 'originalReceiptItemText', 'partnerItemId', 'pointsNotAwardedReason', 'pointsPayerId', 'quantityPurchased', 'rewardsGroup', 'rewardsProductPartnerId']\n",
      "['description', 'discountedItemPrice', 'finalPrice', 'itemPrice', 'originalReceiptItemText', 'partnerItemId', 'quantityPurchased']\n",
      "['description', 'discountedItemPrice', 'finalPrice', 'itemPrice', 'originalReceiptItemText', 'partnerItemId', 'quantityPurchased']\n",
      "['description', 'discountedItemPrice', 'finalPrice', 'itemPrice', 'originalReceiptItemText', 'partnerItemId', 'quantityPurchased']\n",
      "['description', 'discountedItemPrice', 'finalPrice', 'itemPrice', 'originalReceiptItemText', 'partnerItemId', 'quantityPurchased']\n",
      "['barcode', 'brandCode', 'competitiveProduct', 'description', 'discountedItemPrice', 'finalPrice', 'itemPrice', 'metabriteCampaignId', 'originalReceiptItemText', 'partnerItemId', 'pointsNotAwardedReason', 'pointsPayerId', 'quantityPurchased', 'rewardsProductPartnerId']\n",
      "['description', 'discountedItemPrice', 'finalPrice', 'itemPrice', 'originalReceiptItemText', 'partnerItemId', 'quantityPurchased']\n",
      "['description', 'discountedItemPrice', 'finalPrice', 'itemPrice', 'originalReceiptItemText', 'partnerItemId', 'quantityPurchased']\n",
      "['description', 'discountedItemPrice', 'finalPrice', 'itemPrice', 'originalReceiptItemText', 'partnerItemId', 'quantityPurchased']\n",
      "['description', 'discountedItemPrice', 'finalPrice', 'itemPrice', 'originalReceiptItemText', 'partnerItemId', 'quantityPurchased']\n",
      "['description', 'discountedItemPrice', 'finalPrice', 'itemPrice', 'originalReceiptItemText', 'partnerItemId', 'quantityPurchased']\n",
      "['barcode', 'brandCode', 'description', 'discountedItemPrice', 'finalPrice', 'itemPrice', 'metabriteCampaignId', 'originalReceiptItemText', 'partnerItemId', 'quantityPurchased', 'rewardsGroup', 'rewardsProductPartnerId']\n",
      "['barcode', 'brandCode', 'description', 'discountedItemPrice', 'finalPrice', 'itemPrice', 'metabriteCampaignId', 'originalReceiptItemText', 'partnerItemId', 'quantityPurchased', 'rewardsGroup', 'rewardsProductPartnerId']\n",
      "['description', 'discountedItemPrice', 'finalPrice', 'itemPrice', 'originalReceiptItemText', 'partnerItemId', 'quantityPurchased']\n",
      "['description', 'discountedItemPrice', 'finalPrice', 'itemPrice', 'originalReceiptItemText', 'partnerItemId', 'quantityPurchased']\n",
      "['description', 'discountedItemPrice', 'finalPrice', 'itemPrice', 'originalReceiptItemText', 'partnerItemId', 'quantityPurchased']\n",
      "['description', 'discountedItemPrice', 'finalPrice', 'itemPrice', 'originalReceiptItemText', 'partnerItemId', 'quantityPurchased']\n",
      "['description', 'discountedItemPrice', 'finalPrice', 'itemPrice', 'originalReceiptItemText', 'partnerItemId', 'quantityPurchased']\n",
      "['barcode', 'brandCode', 'description', 'discountedItemPrice', 'finalPrice', 'itemPrice', 'metabriteCampaignId', 'originalReceiptItemText', 'partnerItemId', 'pointsNotAwardedReason', 'pointsPayerId', 'quantityPurchased', 'rewardsGroup', 'rewardsProductPartnerId']\n",
      "['barcode', 'description', 'discountedItemPrice', 'finalPrice', 'itemPrice', 'originalReceiptItemText', 'partnerItemId', 'quantityPurchased']\n",
      "['description', 'discountedItemPrice', 'finalPrice', 'itemPrice', 'originalReceiptItemText', 'partnerItemId', 'quantityPurchased']\n",
      "['description', 'discountedItemPrice', 'finalPrice', 'itemPrice', 'originalReceiptItemText', 'partnerItemId', 'quantityPurchased']\n",
      "['barcode', 'description', 'discountedItemPrice', 'finalPrice', 'itemPrice', 'originalReceiptItemText', 'partnerItemId', 'quantityPurchased']\n",
      "['description', 'discountedItemPrice', 'finalPrice', 'itemPrice', 'originalReceiptItemText', 'partnerItemId', 'quantityPurchased']\n",
      "['description', 'discountedItemPrice', 'finalPrice', 'itemPrice', 'originalReceiptItemText', 'partnerItemId', 'quantityPurchased']\n",
      "['barcode', 'brandCode', 'competitiveProduct', 'description', 'discountedItemPrice', 'finalPrice', 'itemPrice', 'metabriteCampaignId', 'originalReceiptItemText', 'partnerItemId', 'pointsNotAwardedReason', 'pointsPayerId', 'quantityPurchased', 'rewardsGroup', 'rewardsProductPartnerId']\n",
      "['barcode', 'brandCode', 'competitiveProduct', 'description', 'discountedItemPrice', 'finalPrice', 'itemPrice', 'metabriteCampaignId', 'originalReceiptItemText', 'partnerItemId', 'pointsNotAwardedReason', 'pointsPayerId', 'quantityPurchased', 'rewardsGroup', 'rewardsProductPartnerId']\n",
      "['description', 'discountedItemPrice', 'finalPrice', 'itemPrice', 'originalReceiptItemText', 'partnerItemId', 'quantityPurchased']\n",
      "['description', 'discountedItemPrice', 'finalPrice', 'itemPrice', 'originalReceiptItemText', 'partnerItemId', 'quantityPurchased']\n",
      "['barcode', 'brandCode', 'competitiveProduct', 'description', 'discountedItemPrice', 'finalPrice', 'itemPrice', 'metabriteCampaignId', 'originalReceiptItemText', 'partnerItemId', 'pointsNotAwardedReason', 'pointsPayerId', 'quantityPurchased', 'rewardsGroup', 'rewardsProductPartnerId']\n",
      "['description', 'discountedItemPrice', 'finalPrice', 'itemPrice', 'originalReceiptItemText', 'partnerItemId', 'quantityPurchased']\n",
      "['description', 'discountedItemPrice', 'finalPrice', 'itemPrice', 'originalReceiptItemText', 'partnerItemId', 'quantityPurchased']\n",
      "['description', 'discountedItemPrice', 'finalPrice', 'itemPrice', 'originalReceiptItemText', 'partnerItemId', 'quantityPurchased']\n",
      "['description', 'discountedItemPrice', 'finalPrice', 'itemPrice', 'originalReceiptItemText', 'partnerItemId', 'quantityPurchased']\n",
      "['barcode', 'brandCode', 'description', 'discountedItemPrice', 'finalPrice', 'itemPrice', 'originalReceiptItemText', 'partnerItemId', 'quantityPurchased']\n",
      "['description', 'discountedItemPrice', 'finalPrice', 'itemPrice', 'originalReceiptItemText', 'partnerItemId', 'quantityPurchased']\n",
      "['description', 'discountedItemPrice', 'finalPrice', 'itemPrice', 'originalReceiptItemText', 'partnerItemId', 'quantityPurchased']\n",
      "['brandCode', 'description', 'discountedItemPrice', 'finalPrice', 'itemPrice', 'originalReceiptItemText', 'partnerItemId', 'quantityPurchased']\n",
      "['description', 'discountedItemPrice', 'finalPrice', 'itemPrice', 'originalReceiptItemText', 'partnerItemId', 'quantityPurchased']\n",
      "['description', 'discountedItemPrice', 'finalPrice', 'itemPrice', 'originalReceiptItemText', 'partnerItemId', 'quantityPurchased']\n",
      "['description', 'discountedItemPrice', 'finalPrice', 'itemPrice', 'originalReceiptItemText', 'partnerItemId', 'quantityPurchased']\n",
      "['description', 'discountedItemPrice', 'finalPrice', 'itemPrice', 'originalReceiptItemText', 'partnerItemId', 'quantityPurchased']\n",
      "['barcode', 'brandCode', 'description', 'discountedItemPrice', 'finalPrice', 'itemPrice', 'metabriteCampaignId', 'originalReceiptItemText', 'partnerItemId', 'pointsEarned', 'pointsPayerId', 'quantityPurchased', 'rewardsGroup', 'rewardsProductPartnerId']\n",
      "['barcode', 'brandCode', 'competitiveProduct', 'description', 'discountedItemPrice', 'finalPrice', 'itemPrice', 'metabriteCampaignId', 'originalReceiptItemText', 'partnerItemId', 'pointsEarned', 'pointsPayerId', 'quantityPurchased', 'rewardsGroup', 'rewardsProductPartnerId']\n",
      "['description', 'discountedItemPrice', 'finalPrice', 'itemPrice', 'originalReceiptItemText', 'partnerItemId', 'quantityPurchased']\n",
      "['description', 'discountedItemPrice', 'finalPrice', 'itemPrice', 'originalReceiptItemText', 'partnerItemId', 'quantityPurchased']\n",
      "['brandCode', 'description', 'discountedItemPrice', 'finalPrice', 'itemPrice', 'originalReceiptItemText', 'partnerItemId', 'quantityPurchased']\n",
      "['barcode', 'brandCode', 'competitiveProduct', 'description', 'discountedItemPrice', 'finalPrice', 'itemPrice', 'originalReceiptItemText', 'partnerItemId', 'quantityPurchased', 'rewardsGroup', 'rewardsProductPartnerId']\n",
      "['barcode', 'brandCode', 'description', 'discountedItemPrice', 'finalPrice', 'itemPrice', 'metabriteCampaignId', 'originalReceiptItemText', 'partnerItemId', 'pointsEarned', 'pointsPayerId', 'quantityPurchased', 'rewardsGroup', 'rewardsProductPartnerId']\n",
      "['barcode', 'brandCode', 'description', 'discountedItemPrice', 'finalPrice', 'itemPrice', 'metabriteCampaignId', 'originalReceiptItemText', 'partnerItemId', 'pointsNotAwardedReason', 'pointsPayerId', 'quantityPurchased', 'rewardsGroup', 'rewardsProductPartnerId']\n",
      "['description', 'discountedItemPrice', 'finalPrice', 'itemPrice', 'originalReceiptItemText', 'partnerItemId', 'quantityPurchased']\n",
      "['description', 'discountedItemPrice', 'finalPrice', 'itemPrice', 'originalReceiptItemText', 'partnerItemId', 'quantityPurchased']\n",
      "['barcode', 'brandCode', 'description', 'discountedItemPrice', 'finalPrice', 'itemPrice', 'metabriteCampaignId', 'originalReceiptItemText', 'partnerItemId', 'quantityPurchased', 'rewardsGroup', 'rewardsProductPartnerId']\n",
      "['description', 'discountedItemPrice', 'finalPrice', 'itemPrice', 'originalReceiptItemText', 'partnerItemId', 'quantityPurchased']\n",
      "['brandCode', 'description', 'discountedItemPrice', 'finalPrice', 'itemPrice', 'originalReceiptItemText', 'partnerItemId', 'quantityPurchased']\n",
      "['description', 'discountedItemPrice', 'finalPrice', 'itemPrice', 'originalReceiptItemText', 'partnerItemId', 'quantityPurchased']\n",
      "['barcode', 'brandCode', 'description', 'discountedItemPrice', 'finalPrice', 'itemPrice', 'metabriteCampaignId', 'originalReceiptItemText', 'partnerItemId', 'pointsEarned', 'pointsPayerId', 'quantityPurchased', 'rewardsGroup', 'rewardsProductPartnerId']\n",
      "['description', 'discountedItemPrice', 'finalPrice', 'itemPrice', 'originalReceiptItemText', 'partnerItemId', 'quantityPurchased']\n",
      "['brandCode', 'competitiveProduct', 'competitorRewardsGroup', 'description', 'discountedItemPrice', 'finalPrice', 'itemPrice', 'originalReceiptItemText', 'partnerItemId', 'quantityPurchased', 'rewardsProductPartnerId']\n",
      "['description', 'discountedItemPrice', 'finalPrice', 'itemPrice', 'originalReceiptItemText', 'partnerItemId', 'quantityPurchased']\n",
      "['description', 'discountedItemPrice', 'finalPrice', 'itemPrice', 'originalReceiptItemText', 'partnerItemId', 'quantityPurchased']\n",
      "['description', 'discountedItemPrice', 'finalPrice', 'itemPrice', 'originalReceiptItemText', 'partnerItemId', 'quantityPurchased']\n",
      "['description', 'discountedItemPrice', 'finalPrice', 'itemPrice', 'originalReceiptItemText', 'partnerItemId', 'quantityPurchased']\n",
      "['description', 'discountedItemPrice', 'finalPrice', 'itemPrice', 'originalReceiptItemText', 'partnerItemId', 'quantityPurchased']\n",
      "['description', 'discountedItemPrice', 'finalPrice', 'itemPrice', 'originalReceiptItemText', 'partnerItemId', 'quantityPurchased']\n",
      "['barcode', 'description', 'discountedItemPrice', 'finalPrice', 'itemPrice', 'originalReceiptItemText', 'partnerItemId', 'quantityPurchased']\n",
      "['description', 'discountedItemPrice', 'finalPrice', 'itemPrice', 'originalReceiptItemText', 'partnerItemId', 'quantityPurchased']\n",
      "['description', 'discountedItemPrice', 'finalPrice', 'itemPrice', 'originalReceiptItemText', 'partnerItemId', 'quantityPurchased']\n",
      "['description', 'discountedItemPrice', 'finalPrice', 'itemPrice', 'originalReceiptItemText', 'partnerItemId', 'quantityPurchased']\n",
      "['description', 'discountedItemPrice', 'finalPrice', 'itemPrice', 'originalReceiptItemText', 'partnerItemId', 'quantityPurchased']\n",
      "['description', 'discountedItemPrice', 'finalPrice', 'itemPrice', 'originalReceiptItemText', 'partnerItemId', 'quantityPurchased']\n",
      "['description', 'discountedItemPrice', 'finalPrice', 'itemPrice', 'originalReceiptItemText', 'partnerItemId', 'quantityPurchased']\n",
      "['description', 'discountedItemPrice', 'finalPrice', 'itemPrice', 'originalReceiptItemText', 'partnerItemId', 'quantityPurchased']\n",
      "['description', 'discountedItemPrice', 'finalPrice', 'itemPrice', 'originalReceiptItemText', 'partnerItemId', 'quantityPurchased']\n",
      "['brandCode', 'competitiveProduct', 'competitorRewardsGroup', 'description', 'discountedItemPrice', 'finalPrice', 'itemPrice', 'originalReceiptItemText', 'partnerItemId', 'quantityPurchased', 'rewardsProductPartnerId']\n",
      "['description', 'discountedItemPrice', 'finalPrice', 'itemPrice', 'originalReceiptItemText', 'partnerItemId', 'quantityPurchased']\n",
      "['description', 'discountedItemPrice', 'finalPrice', 'itemPrice', 'originalReceiptItemText', 'partnerItemId', 'quantityPurchased']\n",
      "['description', 'discountedItemPrice', 'finalPrice', 'itemPrice', 'originalReceiptItemText', 'partnerItemId', 'quantityPurchased']\n",
      "['description', 'discountedItemPrice', 'finalPrice', 'itemPrice', 'originalReceiptItemText', 'partnerItemId', 'quantityPurchased']\n",
      "['description', 'discountedItemPrice', 'finalPrice', 'itemPrice', 'originalReceiptItemText', 'partnerItemId', 'quantityPurchased']\n",
      "['brandCode', 'competitiveProduct', 'competitorRewardsGroup', 'description', 'discountedItemPrice', 'finalPrice', 'itemPrice', 'originalReceiptItemText', 'partnerItemId', 'quantityPurchased', 'rewardsProductPartnerId']\n",
      "['description', 'discountedItemPrice', 'finalPrice', 'itemPrice', 'originalReceiptItemText', 'partnerItemId', 'quantityPurchased']\n",
      "['description', 'discountedItemPrice', 'finalPrice', 'itemPrice', 'originalReceiptItemText', 'partnerItemId', 'quantityPurchased']\n",
      "['description', 'discountedItemPrice', 'finalPrice', 'itemPrice', 'originalReceiptItemText', 'partnerItemId', 'quantityPurchased']\n",
      "['description', 'discountedItemPrice', 'finalPrice', 'itemPrice', 'originalReceiptItemText', 'partnerItemId', 'quantityPurchased']\n",
      "['description', 'discountedItemPrice', 'finalPrice', 'itemPrice', 'originalReceiptItemText', 'partnerItemId', 'quantityPurchased']\n",
      "['description', 'discountedItemPrice', 'finalPrice', 'itemPrice', 'originalReceiptItemText', 'partnerItemId', 'quantityPurchased']\n",
      "['description', 'discountedItemPrice', 'finalPrice', 'itemPrice', 'originalReceiptItemText', 'partnerItemId', 'quantityPurchased']\n",
      "['brandCode', 'description', 'discountedItemPrice', 'finalPrice', 'itemPrice', 'originalReceiptItemText', 'partnerItemId', 'quantityPurchased']\n",
      "['description', 'discountedItemPrice', 'finalPrice', 'itemPrice', 'originalReceiptItemText', 'partnerItemId', 'quantityPurchased']\n",
      "['description', 'discountedItemPrice', 'finalPrice', 'itemPrice', 'originalReceiptItemText', 'partnerItemId', 'quantityPurchased']\n",
      "['barcode', 'brandCode', 'competitiveProduct', 'description', 'discountedItemPrice', 'finalPrice', 'itemPrice', 'metabriteCampaignId', 'originalReceiptItemText', 'partnerItemId', 'pointsEarned', 'pointsPayerId', 'quantityPurchased', 'rewardsGroup', 'rewardsProductPartnerId']\n",
      "['barcode', 'brandCode', 'description', 'discountedItemPrice', 'finalPrice', 'itemPrice', 'metabriteCampaignId', 'originalReceiptItemText', 'partnerItemId', 'pointsEarned', 'pointsPayerId', 'quantityPurchased', 'rewardsGroup', 'rewardsProductPartnerId']\n",
      "['description', 'discountedItemPrice', 'finalPrice', 'itemPrice', 'originalReceiptItemText', 'partnerItemId', 'quantityPurchased']\n",
      "['description', 'discountedItemPrice', 'finalPrice', 'itemPrice', 'originalReceiptItemText', 'partnerItemId', 'quantityPurchased']\n",
      "['description', 'discountedItemPrice', 'finalPrice', 'itemPrice', 'originalReceiptItemText', 'partnerItemId', 'quantityPurchased']\n",
      "['description', 'discountedItemPrice', 'finalPrice', 'itemPrice', 'originalReceiptItemText', 'partnerItemId', 'quantityPurchased']\n",
      "['description', 'discountedItemPrice', 'finalPrice', 'itemPrice', 'originalReceiptItemText', 'partnerItemId', 'quantityPurchased']\n",
      "['description', 'discountedItemPrice', 'finalPrice', 'itemPrice', 'originalReceiptItemText', 'partnerItemId', 'quantityPurchased']\n",
      "['description', 'discountedItemPrice', 'finalPrice', 'itemPrice', 'originalReceiptItemText', 'partnerItemId', 'quantityPurchased']\n",
      "['description', 'discountedItemPrice', 'finalPrice', 'itemPrice', 'originalReceiptItemText', 'partnerItemId', 'quantityPurchased']\n",
      "['description', 'discountedItemPrice', 'finalPrice', 'itemPrice', 'originalReceiptItemText', 'partnerItemId', 'quantityPurchased']\n",
      "['description', 'discountedItemPrice', 'finalPrice', 'itemPrice', 'originalReceiptItemText', 'partnerItemId', 'quantityPurchased']\n",
      "['description', 'discountedItemPrice', 'finalPrice', 'itemPrice', 'originalReceiptItemText', 'partnerItemId', 'quantityPurchased']\n",
      "['description', 'discountedItemPrice', 'finalPrice', 'itemPrice', 'originalReceiptItemText', 'partnerItemId', 'quantityPurchased']\n",
      "['description', 'discountedItemPrice', 'finalPrice', 'itemPrice', 'originalReceiptItemText', 'partnerItemId', 'quantityPurchased']\n",
      "['description', 'discountedItemPrice', 'finalPrice', 'itemPrice', 'originalReceiptItemText', 'partnerItemId', 'quantityPurchased']\n",
      "['description', 'discountedItemPrice', 'finalPrice', 'itemPrice', 'originalReceiptItemText', 'partnerItemId', 'quantityPurchased']\n",
      "['description', 'discountedItemPrice', 'finalPrice', 'itemPrice', 'originalReceiptItemText', 'partnerItemId', 'quantityPurchased']\n",
      "['description', 'discountedItemPrice', 'finalPrice', 'itemPrice', 'originalReceiptItemText', 'partnerItemId', 'quantityPurchased']\n",
      "['description', 'discountedItemPrice', 'finalPrice', 'itemPrice', 'originalReceiptItemText', 'partnerItemId', 'quantityPurchased']\n",
      "['description', 'discountedItemPrice', 'finalPrice', 'itemPrice', 'originalReceiptItemText', 'partnerItemId', 'quantityPurchased']\n",
      "['brandCode', 'description', 'discountedItemPrice', 'finalPrice', 'itemPrice', 'originalReceiptItemText', 'partnerItemId', 'quantityPurchased']\n",
      "['barcode', 'brandCode', 'competitiveProduct', 'description', 'discountedItemPrice', 'finalPrice', 'itemPrice', 'originalReceiptItemText', 'partnerItemId', 'pointsNotAwardedReason', 'pointsPayerId', 'quantityPurchased', 'rewardsProductPartnerId']\n",
      "['brandCode', 'description', 'discountedItemPrice', 'finalPrice', 'itemPrice', 'originalReceiptItemText', 'partnerItemId', 'quantityPurchased']\n",
      "['brandCode', 'description', 'discountedItemPrice', 'finalPrice', 'itemPrice', 'originalReceiptItemText', 'partnerItemId', 'quantityPurchased']\n",
      "['brandCode', 'competitorRewardsGroup', 'description', 'discountedItemPrice', 'finalPrice', 'itemPrice', 'originalReceiptItemText', 'partnerItemId', 'quantityPurchased']\n",
      "['brandCode', 'competitorRewardsGroup', 'description', 'discountedItemPrice', 'finalPrice', 'itemPrice', 'originalReceiptItemText', 'partnerItemId', 'quantityPurchased']\n",
      "['brandCode', 'description', 'discountedItemPrice', 'finalPrice', 'itemPrice', 'originalReceiptItemText', 'partnerItemId', 'quantityPurchased']\n",
      "['description', 'discountedItemPrice', 'finalPrice', 'itemPrice', 'originalReceiptItemText', 'partnerItemId', 'quantityPurchased']\n",
      "['description', 'discountedItemPrice', 'finalPrice', 'itemPrice', 'originalReceiptItemText', 'partnerItemId', 'quantityPurchased']\n",
      "['description', 'discountedItemPrice', 'finalPrice', 'itemPrice', 'originalReceiptItemText', 'partnerItemId', 'quantityPurchased']\n",
      "['description', 'discountedItemPrice', 'finalPrice', 'itemPrice', 'originalReceiptItemText', 'partnerItemId', 'quantityPurchased']\n",
      "['description', 'discountedItemPrice', 'finalPrice', 'itemPrice', 'originalReceiptItemText', 'partnerItemId', 'quantityPurchased']\n",
      "['description', 'discountedItemPrice', 'finalPrice', 'itemPrice', 'originalReceiptItemText', 'partnerItemId', 'quantityPurchased']\n",
      "['description', 'discountedItemPrice', 'finalPrice', 'itemPrice', 'originalReceiptItemText', 'partnerItemId', 'quantityPurchased']\n",
      "['brandCode', 'description', 'discountedItemPrice', 'finalPrice', 'itemPrice', 'originalReceiptItemText', 'partnerItemId', 'quantityPurchased']\n",
      "['description', 'discountedItemPrice', 'finalPrice', 'itemPrice', 'originalReceiptItemText', 'partnerItemId', 'quantityPurchased']\n",
      "['description', 'discountedItemPrice', 'finalPrice', 'itemPrice', 'originalReceiptItemText', 'partnerItemId', 'quantityPurchased']\n",
      "['description', 'discountedItemPrice', 'finalPrice', 'itemPrice', 'originalReceiptItemText', 'partnerItemId', 'quantityPurchased']\n",
      "['description', 'discountedItemPrice', 'finalPrice', 'itemPrice', 'originalReceiptItemText', 'partnerItemId', 'quantityPurchased']\n",
      "['description', 'discountedItemPrice', 'finalPrice', 'itemPrice', 'originalReceiptItemText', 'partnerItemId', 'quantityPurchased']\n",
      "['description', 'discountedItemPrice', 'finalPrice', 'itemPrice', 'originalReceiptItemText', 'partnerItemId', 'quantityPurchased']\n",
      "['description', 'discountedItemPrice', 'finalPrice', 'itemPrice', 'originalReceiptItemText', 'partnerItemId', 'quantityPurchased']\n",
      "['description', 'discountedItemPrice', 'finalPrice', 'itemPrice', 'originalReceiptItemText', 'partnerItemId', 'quantityPurchased']\n",
      "['description', 'discountedItemPrice', 'finalPrice', 'itemPrice', 'originalReceiptItemText', 'partnerItemId', 'quantityPurchased']\n",
      "['description', 'discountedItemPrice', 'finalPrice', 'itemPrice', 'originalReceiptItemText', 'partnerItemId', 'quantityPurchased']\n",
      "['barcode', 'brandCode', 'description', 'discountedItemPrice', 'finalPrice', 'itemPrice', 'metabriteCampaignId', 'originalReceiptItemText', 'partnerItemId', 'pointsEarned', 'pointsPayerId', 'quantityPurchased', 'rewardsGroup', 'rewardsProductPartnerId']\n",
      "['description', 'discountedItemPrice', 'finalPrice', 'itemPrice', 'originalReceiptItemText', 'partnerItemId', 'quantityPurchased']\n",
      "['description', 'discountedItemPrice', 'finalPrice', 'itemPrice', 'originalReceiptItemText', 'partnerItemId', 'quantityPurchased']\n",
      "['barcode', 'brandCode', 'description', 'discountedItemPrice', 'finalPrice', 'itemPrice', 'originalReceiptItemText', 'partnerItemId', 'quantityPurchased', 'rewardsProductPartnerId']\n",
      "['description', 'discountedItemPrice', 'finalPrice', 'itemPrice', 'originalReceiptItemText', 'partnerItemId', 'quantityPurchased']\n",
      "['barcode', 'description', 'discountedItemPrice', 'finalPrice', 'itemPrice', 'originalReceiptItemText', 'partnerItemId', 'quantityPurchased']\n",
      "['barcode', 'brandCode', 'description', 'discountedItemPrice', 'finalPrice', 'itemPrice', 'metabriteCampaignId', 'originalReceiptItemText', 'partnerItemId', 'quantityPurchased', 'rewardsGroup', 'rewardsProductPartnerId']\n"
     ]
    }
   ],
   "source": [
    "for item in reciepts.iloc[[423]].rewardsReceiptItemList:\n",
    "     for dic in item:\n",
    "        print([k  for  k in  dic.keys()])"
   ]
  },
  {
   "attachments": {},
   "cell_type": "markdown",
   "metadata": {},
   "source": [
    "##### Comments: \n",
    "As seen from previous code, recieptItemList has non-uniform dictionaries. <br>\n",
    "\n",
    "Item Number which could be potential identifier for each reciept list item is sparsely populated. This was observed in Tableau.\n",
    "\n",
    "Some have barcode, finalPrice while some don't making it difficult to check data integrity among <br>\n",
    "sum of individual items in recieptItemList and compare against totalSpent in reciept.\n",
    "\n",
    "This data issue needs to be first taken care of before futher enhancing the user defined function <br>\n",
    "to conduct data integrity checks.\n",
    "\n",
    "Similar checks can be designed for item quantity at receipt and receipt item levels too."
   ]
  }
 ],
 "metadata": {
  "kernelspec": {
   "display_name": "Python 3",
   "language": "python",
   "name": "python3"
  },
  "language_info": {
   "codemirror_mode": {
    "name": "ipython",
    "version": 3
   },
   "file_extension": ".py",
   "mimetype": "text/x-python",
   "name": "python",
   "nbconvert_exporter": "python",
   "pygments_lexer": "ipython3",
   "version": "3.7.6"
  }
 },
 "nbformat": 4,
 "nbformat_minor": 4
}
